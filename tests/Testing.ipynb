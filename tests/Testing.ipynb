{
 "cells": [
  {
   "cell_type": "code",
   "execution_count": 18,
   "id": "7ab2a07f",
   "metadata": {},
   "outputs": [],
   "source": [
    "def measure_circuit(s: str):\n",
    "    par = 0.0\n",
    "    commas = 1.0\n",
    "    length = []\n",
    "    l = 1.0\n",
    "    for c in s:\n",
    "        if c == '-':\n",
    "            l += 1.0\n",
    "        elif c == ',' and par == 0.0:\n",
    "            length.append(l)\n",
    "            l = 1.0\n",
    "            commas += 1.0\n",
    "        elif c == 'p':\n",
    "            par += 1.0\n",
    "            l += 0.5\n",
    "        elif c == ')':\n",
    "            par -= 1\n",
    "        \n",
    "        if par < 0.0:\n",
    "            break\n",
    "    length.append(l)\n",
    "    return commas, length"
   ]
  },
  {
   "cell_type": "code",
   "execution_count": 19,
   "id": "c7a0b007",
   "metadata": {},
   "outputs": [
    {
     "name": "stdout",
     "output_type": "stream",
     "text": [
      "length=[0, 5.5, 1.0], exp_length=4.5\n"
     ]
    }
   ],
   "source": [
    "test_string = 'R-p(p(p(R,R),C-R-CPE),R),R)'\n",
    "exp_length = 4.5\n",
    "\n",
    "height, length = measure_circuit(test_string)\n",
    "\n",
    "print(f\"{length=}, {exp_length=}\")"
   ]
  },
  {
   "cell_type": "code",
   "execution_count": null,
   "id": "f04681af",
   "metadata": {},
   "outputs": [],
   "source": []
  }
 ],
 "metadata": {
  "kernelspec": {
   "display_name": "Basic39",
   "language": "python",
   "name": "basic39"
  },
  "language_info": {
   "codemirror_mode": {
    "name": "ipython",
    "version": 3
   },
   "file_extension": ".py",
   "mimetype": "text/x-python",
   "name": "python",
   "nbconvert_exporter": "python",
   "pygments_lexer": "ipython3",
   "version": "3.9.7"
  }
 },
 "nbformat": 4,
 "nbformat_minor": 5
}
