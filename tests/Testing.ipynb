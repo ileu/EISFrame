{
 "cells": [
  {
   "cell_type": "code",
   "execution_count": 18,
   "id": "7ab2a07f",
   "metadata": {},
   "outputs": [],
   "source": [
    "def measure_circuit(s: str):\n",
    "    par = 0.0\n",
    "    commas = 1.0\n",
    "    length = []\n",
    "    l = 1.0\n",
    "    for c in s:\n",
    "        if c == '-':\n",
    "            l += 1.0\n",
    "        elif c == ',' and par == 0.0:\n",
    "            length.append(l)\n",
    "            l = 1.0\n",
    "            commas += 1.0\n",
    "        elif c == 'p':\n",
    "            par += 1.0\n",
    "            l += 0.5\n",
    "        elif c == ')':\n",
    "            par -= 1\n",
    "        \n",
    "        if par < 0.0:\n",
    "            break\n",
    "    length.append(l)\n",
    "    return commas, length"
   ]
  },
  {
   "cell_type": "code",
   "execution_count": 19,
   "id": "c7a0b007",
   "metadata": {},
   "outputs": [
    {
     "name": "stdout",
     "output_type": "stream",
     "text": [
      "length=[0, 5.5, 1.0], exp_length=4.5\n"
     ]
    }
   ],
   "source": [
    "test_string = 'R-p(p(p(R,R),C-R-CPE),R),R)'\n",
    "exp_length = 4.5\n",
    "\n",
    "height, length = measure_circuit(test_string)\n",
    "\n",
    "print(f\"{length=}, {exp_length=}\")"
   ]
  },
  {
   "cell_type": "code",
   "execution_count": 31,
   "id": "f04681af",
   "metadata": {},
   "outputs": [],
   "source": [
    "class Parameter:\n",
    "    \"\"\" Parameter class to save data of parameters\n",
    "\n",
    "    A parameter consists of a name, bounds in the form of (ll, ul) with lb =\n",
    "    lower bounds and ub = upper bounds and a unit string.\n",
    "\n",
    "    Also used to store fitting results fo the paramater.\n",
    "\n",
    "    \"\"\"\n",
    "\n",
    "    def __init__(self, name, bounds, unit, **kwargs):\n",
    "        self.name = name\n",
    "        \n",
    "        if 'value' in kwargs:\n",
    "            self.value = kwargs['value']\n",
    "        else:\n",
    "            self.value = 0.0\n",
    "            \n",
    "        if 'error' in kwargs:\n",
    "            self.error = kwargs['error']\n",
    "        else:\n",
    "            self.error = 0.0\n",
    "            \n",
    "        self.unit = unit\n",
    "        self.bounds = bounds\n",
    "\n",
    "    def __repr__(self):\n",
    "        name = f\"Parameter {self.name}\"\n",
    "        value = rf\"{self.value} (+\\-{self.error}) [{self.unit}]\"\n",
    "        return rf\"<{name}, {value}>\"\n",
    "\n",
    "    def __eq__(self, other):\n",
    "        if isinstance(other, Parameter):\n",
    "            return self.name == other.name\n",
    "        return False\n",
    "    \n",
    "class ParameterDict(list):\n",
    "    def __init__(self, init=None):\n",
    "        super().__init__(init)\n",
    "        \n",
    "    def __getitem__(self, key):\n",
    "        if isinstance(key, int):\n",
    "            return super().__getitem__(key)\n",
    "        for item in self:\n",
    "            if item.name == key:\n",
    "                return item\n",
    "        return None\n",
    "    \n",
    "    def __repr__(self):\n",
    "        return super().__repr__()\n",
    "        "
   ]
  },
  {
   "cell_type": "code",
   "execution_count": 33,
   "id": "0f89741b",
   "metadata": {},
   "outputs": [
    {
     "name": "stdout",
     "output_type": "stream",
     "text": [
      "HALLO + [<Parameter name1, 0.0 (+\\-0.0) [Ohm]>, <Parameter name2, 0.0 (+\\-0.0) [Ohm2]>, <Parameter name3, 0.0 (+\\-0.0) [Ohm3]>, <Parameter name4, 0.0 (+\\-0.0) [Ohm4]>]\n",
      "CIAO + [<Parameter name1, 0.0 (+\\-0.0) [Ohm]>, <Parameter name2, 0.0 (+\\-0.0) [Ohm2]>, <Parameter name3, 0.0 (+\\-0.0) [Ohm3]>, <Parameter name4, 0.0 (+\\-0.0) [Ohm4]>]\n",
      "<Parameter name1, 0.0 (+\\-0.0) [Ohm]>\n",
      "<Parameter name4, 0.0 (+\\-0.0) [Ohm4]>\n"
     ]
    }
   ],
   "source": [
    "parameters = [\n",
    "    Parameter(\"name1\", (1e-6, 123), 'Ohm'),\n",
    "    Parameter(\"name2\", (1, 43), 'Ohm2'),\n",
    "    Parameter(\"name3\", (16, 7136), 'Ohm3'),\n",
    "    Parameter(\"name4\", (5, 263), 'Ohm4'),\n",
    "]\n",
    "\n",
    "parameter_list = ParameterDict([\n",
    "    Parameter(\"name1\", (1e-6, 123), 'Ohm'),\n",
    "    Parameter(\"name2\", (1, 43), 'Ohm2'),\n",
    "    Parameter(\"name3\", (16, 7136), 'Ohm3'),\n",
    "    Parameter(\"name4\", (5, 263), 'Ohm4'),\n",
    "])\n",
    "print(f\"HALLO + {parameters}\")\n",
    "print(f\"CIAO + {parameter_list}\")\n",
    "print(parameter_list[\"name1\"])\n",
    "print(parameter_list[3])"
   ]
  },
  {
   "cell_type": "code",
   "execution_count": null,
   "id": "19292f36",
   "metadata": {},
   "outputs": [],
   "source": []
  }
 ],
 "metadata": {
  "kernelspec": {
   "display_name": "Python 3 (ipykernel)",
   "language": "python",
   "name": "python3"
  },
  "language_info": {
   "codemirror_mode": {
    "name": "ipython",
    "version": 3
   },
   "file_extension": ".py",
   "mimetype": "text/x-python",
   "name": "python",
   "nbconvert_exporter": "python",
   "pygments_lexer": "ipython3",
   "version": "3.9.7"
  }
 },
 "nbformat": 4,
 "nbformat_minor": 5
}
