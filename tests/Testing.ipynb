{
 "cells": [
  {
   "cell_type": "code",
   "execution_count": 18,
   "id": "7ab2a07f",
   "metadata": {},
   "outputs": [],
   "source": [
    "def measure_circuit(s: str):\n",
    "    par = 0.0\n",
    "    commas = 1.0\n",
    "    length = []\n",
    "    l = 1.0\n",
    "    for c in s:\n",
    "        if c == '-':\n",
    "            l += 1.0\n",
    "        elif c == ',' and par == 0.0:\n",
    "            length.append(l)\n",
    "            l = 1.0\n",
    "            commas += 1.0\n",
    "        elif c == 'p':\n",
    "            par += 1.0\n",
    "            l += 0.5\n",
    "        elif c == ')':\n",
    "            par -= 1\n",
    "        \n",
    "        if par < 0.0:\n",
    "            break\n",
    "    length.append(l)\n",
    "    return commas, length"
   ]
  },
  {
   "cell_type": "code",
   "execution_count": 19,
   "id": "c7a0b007",
   "metadata": {},
   "outputs": [
    {
     "name": "stdout",
     "output_type": "stream",
     "text": [
      "length=[0, 5.5, 1.0], exp_length=4.5\n"
     ]
    }
   ],
   "source": [
    "test_string = 'R-p(p(p(R,R),C-R-CPE),R),R)'\n",
    "exp_length = 4.5\n",
    "\n",
    "height, length = measure_circuit(test_string)\n",
    "\n",
    "print(f\"{length=}, {exp_length=}\")"
   ]
  },
  {
   "cell_type": "code",
   "execution_count": 13,
   "id": "f04681af",
   "metadata": {},
   "outputs": [],
   "source": [
    "class Parameter:\n",
    "    \"\"\" Parameter class to save data of parameters\n",
    "\n",
    "    A parameter consists of a name, bounds in the form of (ll, ul) with lb =\n",
    "    lower bounds and ub = upper bounds and a unit string.\n",
    "\n",
    "    Also used to store fitting results fo the paramater.\n",
    "\n",
    "    \"\"\"\n",
    "\n",
    "    def __init__(self, name, bounds, unit, **kwargs):\n",
    "        self.name = name\n",
    "        \n",
    "        if 'value' in kwargs:\n",
    "            self.value = kwargs['value']\n",
    "        else:\n",
    "            self.value = 0.0\n",
    "            \n",
    "        if 'error' in kwargs:\n",
    "            self.error = kwargs['error']\n",
    "        else:\n",
    "            self.error = 0.0\n",
    "            \n",
    "        self.unit = unit\n",
    "        self.bounds = bounds\n",
    "\n",
    "    def __repr__(self):\n",
    "        name = f\"Parameter {self.name}\"\n",
    "        value = rf\"{self.value} (±{self.error}) [{self.unit}]\"\n",
    "        return rf\"<{name}, {value}>\"\n",
    "\n",
    "    def __eq__(self, other):\n",
    "        if isinstance(other, Parameter):\n",
    "            return self.name == other.name\n",
    "        return False\n",
    "    \n",
    "class ParameterList(list[Parameter]):\n",
    "    def __init__(self, iterable=None, *args):\n",
    "        super().__init__()\n",
    "        if iterable:\n",
    "            for item in iterable:\n",
    "                self.append(item)\n",
    "\n",
    "        for arg in args:\n",
    "            self.append(arg)\n",
    "\n",
    "    def __getitem__(self, key):\n",
    "        if isinstance(key, int):\n",
    "            return super().__getitem__(key)\n",
    "        for item in self:\n",
    "            if item.name == key:\n",
    "                return item\n",
    "        return None\n",
    "    \n",
    "    def __repr__(self):\n",
    "        return super().__repr__()\n",
    "    \n",
    "    def __str__(self):\n",
    "        output = '[\\n'\n",
    "        for p in self:\n",
    "            output += f\"\\t {p}\\n\"\n",
    "        output += ']'\n",
    "        return output\n",
    "        "
   ]
  },
  {
   "cell_type": "code",
   "execution_count": 14,
   "id": "0f89741b",
   "metadata": {},
   "outputs": [
    {
     "name": "stdout",
     "output_type": "stream",
     "text": [
      "HALLO + [<Parameter name1, 0.0 (±0.0) [Ohm]>, <Parameter name2, 0.0 (±0.0) [Ohm2]>, <Parameter name3, 0.0 (±0.0) [Ohm3]>, <Parameter name4, 0.0 (±0.0) [Ohm4]>]\n",
      "<Parameter name1, 0.0 (±0.0) [Ohm]>\n",
      "<Parameter name4, 0.0 (±0.0) [Ohm4]>\n",
      "[\n",
      "\t <Parameter name1, 0.0 (±0.0) [Ohm]>\n",
      "\t <Parameter name2, 0.0 (±0.0) [Ohm2]>\n",
      "\t <Parameter name3, 0.0 (±0.0) [Ohm3]>\n",
      "\t <Parameter name4, 0.0 (±0.0) [Ohm4]>\n",
      "]\n",
      "[<Parameter name1, 0.0 (±0.0) [Ohm]>, <Parameter name2, 0.0 (±0.0) [Ohm2]>, <Parameter name3, 0.0 (±0.0) [Ohm3]>, <Parameter name4, 0.0 (±0.0) [Ohm4]>]\n"
     ]
    }
   ],
   "source": [
    "parameters = [\n",
    "    Parameter(\"name1\", (1e-6, 123), 'Ohm'),\n",
    "    Parameter(\"name2\", (1, 43), 'Ohm2'),\n",
    "    Parameter(\"name3\", (16, 7136), 'Ohm3'),\n",
    "    Parameter(\"name4\", (5, 263), 'Ohm4'),\n",
    "]\n",
    "\n",
    "parameter_list = ParameterList([\n",
    "    Parameter(\"name1\", (1e-6, 123), 'Ohm'),\n",
    "    Parameter(\"name2\", (1, 43), 'Ohm2'),\n",
    "    Parameter(\"name3\", (16, 7136), 'Ohm3'),\n",
    "    Parameter(\"name4\", (5, 263), 'Ohm4'),\n",
    "])\n",
    "print(f\"HALLO + {parameters}\")\n",
    "print(parameter_list[\"name1\"])\n",
    "print(parameter_list[3])\n",
    "print(parameter_list)\n",
    "print(repr(parameter_list))"
   ]
  },
  {
   "cell_type": "code",
   "execution_count": 12,
   "id": "19292f36",
   "metadata": {},
   "outputs": [
    {
     "name": "stdout",
     "output_type": "stream",
     "text": [
      "1\n",
      "2\n",
      "3\n",
      "4\n",
      "4\n",
      "4\n",
      "4\n",
      "4\n",
      "4\n",
      "4\n"
     ]
    }
   ],
   "source": [
    "def test_gen():\n",
    "    for i in range(5):\n",
    "        yield i\n",
    "\n",
    "test = test_gen()\n",
    "bla = next(test)\n",
    "for t in range(10):\n",
    "    bla = next(test, bla)\n",
    "    print(bla)"
   ]
  },
  {
   "cell_type": "code",
   "execution_count": 13,
   "id": "68e8242f",
   "metadata": {},
   "outputs": [
    {
     "ename": "TypeError",
     "evalue": "'list' object is not an iterator",
     "output_type": "error",
     "traceback": [
      "\u001b[1;31m---------------------------------------------------------------------------\u001b[0m",
      "\u001b[1;31mTypeError\u001b[0m                                 Traceback (most recent call last)",
      "\u001b[1;32m~\\AppData\\Local\\Temp/ipykernel_21384/3204614342.py\u001b[0m in \u001b[0;36m<module>\u001b[1;34m\u001b[0m\n\u001b[1;32m----> 1\u001b[1;33m \u001b[0mnext\u001b[0m\u001b[1;33m(\u001b[0m\u001b[1;33m[\u001b[0m\u001b[1;36m1\u001b[0m\u001b[1;33m,\u001b[0m\u001b[1;36m2\u001b[0m\u001b[1;33m,\u001b[0m\u001b[1;36m3\u001b[0m\u001b[1;33m]\u001b[0m\u001b[1;33m)\u001b[0m\u001b[1;33m\u001b[0m\u001b[1;33m\u001b[0m\u001b[0m\n\u001b[0m",
      "\u001b[1;31mTypeError\u001b[0m: 'list' object is not an iterator"
     ]
    }
   ],
   "source": [
    "next([1,2,3])"
   ]
  },
  {
   "cell_type": "code",
   "execution_count": 15,
   "id": "c28b61c5",
   "metadata": {},
   "outputs": [
    {
     "name": "stdout",
     "output_type": "stream",
     "text": [
      "HALLO\n"
     ]
    },
    {
     "ename": "TypeError",
     "evalue": "nn() missing 1 required positional argument: 'self'",
     "output_type": "error",
     "traceback": [
      "\u001b[1;31m---------------------------------------------------------------------------\u001b[0m",
      "\u001b[1;31mTypeError\u001b[0m                                 Traceback (most recent call last)",
      "\u001b[1;32m~\\AppData\\Local\\Temp/ipykernel_21384/1677171955.py\u001b[0m in \u001b[0;36m<module>\u001b[1;34m\u001b[0m\n\u001b[0;32m     10\u001b[0m \u001b[0mtest\u001b[0m\u001b[1;33m.\u001b[0m\u001b[0mnormalize\u001b[0m \u001b[1;33m=\u001b[0m \u001b[0mnn\u001b[0m\u001b[1;33m\u001b[0m\u001b[1;33m\u001b[0m\u001b[0m\n\u001b[0;32m     11\u001b[0m \u001b[1;33m\u001b[0m\u001b[0m\n\u001b[1;32m---> 12\u001b[1;33m \u001b[0mprint\u001b[0m\u001b[1;33m(\u001b[0m\u001b[0mtest\u001b[0m\u001b[1;33m.\u001b[0m\u001b[0mnormalize\u001b[0m\u001b[1;33m(\u001b[0m\u001b[1;33m)\u001b[0m\u001b[1;33m)\u001b[0m\u001b[1;33m\u001b[0m\u001b[1;33m\u001b[0m\u001b[0m\n\u001b[0m",
      "\u001b[1;31mTypeError\u001b[0m: nn() missing 1 required positional argument: 'self'"
     ]
    }
   ],
   "source": [
    "class Test:\n",
    "    def normalize():\n",
    "        return 2\n",
    "    \n",
    "test = Test()\n",
    "test.name = \"HALLO\"\n",
    "print(test.name)\n",
    "def nn(self):\n",
    "    return self.name\n",
    "test.normalize = nn\n",
    "\n",
    "print(test.normalize())"
   ]
  },
  {
   "cell_type": "code",
   "execution_count": 22,
   "id": "12fcc41c",
   "metadata": {},
   "outputs": [
    {
     "name": "stdout",
     "output_type": "stream",
     "text": [
      "['a', 'b', 'c']\n",
      "HALLO\n",
      "a\n",
      "b\n",
      "c\n",
      "HALLO\n",
      "a\n",
      "b\n",
      "c\n",
      "<class 'type'> <class 'int'>\n"
     ]
    },
    {
     "ename": "AttributeError",
     "evalue": "'NoneType' object has no attribute 'read'",
     "output_type": "error",
     "traceback": [
      "\u001b[1;31m---------------------------------------------------------------------------\u001b[0m",
      "\u001b[1;31mAttributeError\u001b[0m                            Traceback (most recent call last)",
      "\u001b[1;32m~\\AppData\\Local\\Temp/ipykernel_9992/1515771748.py\u001b[0m in \u001b[0;36m<module>\u001b[1;34m\u001b[0m\n\u001b[0;32m     43\u001b[0m     \u001b[0mprint\u001b[0m\u001b[1;33m(\u001b[0m\u001b[0mit\u001b[0m\u001b[1;33m.\u001b[0m\u001b[0mread\u001b[0m\u001b[1;33m(\u001b[0m\u001b[1;33m)\u001b[0m\u001b[1;33m)\u001b[0m\u001b[1;33m\u001b[0m\u001b[1;33m\u001b[0m\u001b[0m\n\u001b[0;32m     44\u001b[0m \u001b[1;33m\u001b[0m\u001b[0m\n\u001b[1;32m---> 45\u001b[1;33m \u001b[0mprint\u001b[0m\u001b[1;33m(\u001b[0m\u001b[0mtesting\u001b[0m\u001b[1;33m[\u001b[0m\u001b[1;36m2\u001b[0m\u001b[1;33m]\u001b[0m\u001b[1;33m.\u001b[0m\u001b[0mread\u001b[0m\u001b[1;33m(\u001b[0m\u001b[1;33m)\u001b[0m\u001b[1;33m)\u001b[0m\u001b[1;33m\u001b[0m\u001b[1;33m\u001b[0m\u001b[0m\n\u001b[0m\u001b[0;32m     46\u001b[0m \u001b[0mprint\u001b[0m\u001b[1;33m(\u001b[0m\u001b[0mtesting\u001b[0m\u001b[1;33m.\u001b[0m\u001b[0mread\u001b[0m\u001b[1;33m(\u001b[0m\u001b[1;33m)\u001b[0m\u001b[1;33m)\u001b[0m\u001b[1;33m\u001b[0m\u001b[1;33m\u001b[0m\u001b[0m\n",
      "\u001b[1;31mAttributeError\u001b[0m: 'NoneType' object has no attribute 'read'"
     ]
    }
   ],
   "source": [
    "class iter_test:\n",
    "    def __init__(self, **kwargs):\n",
    "        self.lesen = [\"a\", \"b\", \"c\"]\n",
    "        self.current = -1\n",
    "        self.kwargs = {}\n",
    "        for kwarg in kwargs:\n",
    "            self.kwargs[kwarg] = kwargs[kwarg]\n",
    "    \n",
    "    def read(self):\n",
    "        if self.current < 0:\n",
    "            return self.lesen\n",
    "        return self.lesen[self.current]\n",
    "    \n",
    "    def __iter__(self):\n",
    "        print(\"HALLO\")\n",
    "        return self\n",
    "\n",
    "    def __next__(self):\n",
    "        self.current += 1\n",
    "        if self.current < len(self.lesen):\n",
    "            return self\n",
    "        self.current = -1\n",
    "        raise StopIteration\n",
    "    \n",
    "    @classmethod\n",
    "    def get_cycle(cls, cycle):\n",
    "        child = cls(curren)\n",
    "    def __getitem__(self, args):\n",
    "        if isinstance(args, int):\n",
    "            self.current = args\n",
    "            return \n",
    "        raise ValueError\n",
    "\n",
    "stopper = 0\n",
    "testing = iter_test()\n",
    "print(testing.read())\n",
    "for it in testing:\n",
    "    stopper += 1\n",
    "    if stopper > 15:\n",
    "        break\n",
    "    print(it.read())\n",
    "    \n",
    "for it in testing:\n",
    "    stopper += 1\n",
    "    if stopper > 15:\n",
    "        break\n",
    "    print(it.read())\n",
    "\n",
    "print(testing[2].read())\n",
    "print(testing.read())"
   ]
  },
  {
   "cell_type": "code",
   "execution_count": null,
   "id": "95f42ac3",
   "metadata": {},
   "outputs": [],
   "source": []
  }
 ],
 "metadata": {
  "kernelspec": {
   "display_name": "Python 3 (ipykernel)",
   "language": "python",
   "name": "python3"
  },
  "language_info": {
   "codemirror_mode": {
    "name": "ipython",
    "version": 3
   },
   "file_extension": ".py",
   "mimetype": "text/x-python",
   "name": "python",
   "nbconvert_exporter": "python",
   "pygments_lexer": "ipython3",
   "version": "3.9.7"
  }
 },
 "nbformat": 4,
 "nbformat_minor": 5
}
