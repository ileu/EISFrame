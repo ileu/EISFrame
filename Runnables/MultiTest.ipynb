{
 "cells": [
  {
   "cell_type": "code",
   "execution_count": 1,
   "id": "fcc03682",
   "metadata": {},
   "outputs": [
    {
     "name": "stdout",
     "output_type": "stream",
     "text": [
      "\\20201204_Rabeb_LLZTO_Batch4_rAcetonitryle-3days_Li300C_3mm_0p7th_PT_C15.mpr\n"
     ]
    }
   ],
   "source": [
    "from eisplottingtool import EISFrame\n",
    "\n",
    "path1 = r\"G:\\Collaborators\\Sauter Ulrich\\Projects\\EIS Tail\\Data\"\n",
    "path2 = r\"C:\\Users\\ueli\\Desktop\\Sauter Ulrich\\Projects\\EIS Tail\\Data\"\n",
    "file = r\"\\20201204_Rabeb_LLZTO_Batch4_rAcetonitryle-3days_Li300C_3mm_0p7th_PT_C15.mpr\"\n",
    "\n",
    "print(file)\n",
    "\n",
    "testFrame = EISFrame(path=path1 + file)\n",
    "\n",
    "testFrame.load(path1 + file)\n",
    "\n",
    "data =testFrame.df.copy()\n"
   ]
  },
  {
   "cell_type": "code",
   "execution_count": 2,
   "id": "26a84c34",
   "metadata": {},
   "outputs": [
    {
     "name": "stdout",
     "output_type": "stream",
     "text": [
      "Index(['I Range', 'time', 'control_I', 'Ewe', 'I', 'dq', '(Q-Qo)', 'Energy',\n",
      "       'freq', '|Z|', 'Phase(Z)', 'Q charge/discharge', 'half cycle', 'Ece',\n",
      "       '<Ece>', '|Ece|', 'Phase(Zce)', '|Zce|', 'Re(Zce)', '-Im(Zce)',\n",
      "       'Phase(Zwe-ce)', '|Zwe-ce|', 'Re(Zwe-ce)', '-Im(Zwe-ce)',\n",
      "       'Energy charge', 'Energy discharge', 'Capacitance charge',\n",
      "       'Capacitance discharge', 'mode', 'ox/red', 'error', 'control changes',\n",
      "       'Ns changes', 'counter inc.', 'uts'],\n",
      "      dtype='object')\n"
     ]
    }
   ],
   "source": [
    "print(data.columns)"
   ]
  },
  {
   "cell_type": "code",
   "execution_count": 30,
   "id": "75c6d546",
   "metadata": {},
   "outputs": [
    {
     "data": {
      "text/plain": "z cycle  Ns\n0        0     0\n         0     0\n         0     0\n         0     0\n         0     0\n              ..\n69       5     0\n         5     0\n         5     0\n         5     0\n         6     0\nName: control changes, Length: 514968, dtype: int64"
     },
     "execution_count": 30,
     "metadata": {},
     "output_type": "execute_result"
    }
   ],
   "source": [
    "data['control changes']"
   ]
  },
  {
   "cell_type": "code",
   "execution_count": 34,
   "id": "098aba19",
   "metadata": {},
   "outputs": [
    {
     "data": {
      "text/plain": [
       "z cycle  Ns\n",
       "0        1     0.0\n",
       "         1     0.0\n",
       "         1     0.0\n",
       "         1     0.0\n",
       "         1     0.0\n",
       "              ... \n",
       "         1     0.0\n",
       "         1     0.0\n",
       "         1     0.0\n",
       "         1     0.0\n",
       "         1     0.0\n",
       "Name: freq, Length: 7212, dtype: float64"
      ]
     },
     "execution_count": 34,
     "metadata": {},
     "output_type": "execute_result"
    }
   ],
   "source": [
    "data.loc[(0, 1)][testFrame.eis_params[\"frequency\"]]"
   ]
  },
  {
   "cell_type": "code",
   "execution_count": 31,
   "id": "5929be41",
   "metadata": {},
   "outputs": [
    {
     "data": {
      "text/html": [
       "<div>\n",
       "<style scoped>\n",
       "    .dataframe tbody tr th:only-of-type {\n",
       "        vertical-align: middle;\n",
       "    }\n",
       "\n",
       "    .dataframe tbody tr th {\n",
       "        vertical-align: top;\n",
       "    }\n",
       "\n",
       "    .dataframe thead th {\n",
       "        text-align: right;\n",
       "    }\n",
       "</style>\n",
       "<table border=\"1\" class=\"dataframe\">\n",
       "  <thead>\n",
       "    <tr style=\"text-align: right;\">\n",
       "      <th></th>\n",
       "      <th></th>\n",
       "      <th>I Range</th>\n",
       "      <th>time</th>\n",
       "      <th>control_I</th>\n",
       "      <th>Ewe</th>\n",
       "      <th>I</th>\n",
       "      <th>dq</th>\n",
       "      <th>(Q-Qo)</th>\n",
       "      <th>Energy</th>\n",
       "      <th>freq</th>\n",
       "      <th>|Z|</th>\n",
       "      <th>...</th>\n",
       "      <th>Energy discharge</th>\n",
       "      <th>Capacitance charge</th>\n",
       "      <th>Capacitance discharge</th>\n",
       "      <th>mode</th>\n",
       "      <th>ox/red</th>\n",
       "      <th>error</th>\n",
       "      <th>control changes</th>\n",
       "      <th>Ns changes</th>\n",
       "      <th>counter inc.</th>\n",
       "      <th>uts</th>\n",
       "    </tr>\n",
       "    <tr>\n",
       "      <th>z cycle</th>\n",
       "      <th>Ns</th>\n",
       "      <th></th>\n",
       "      <th></th>\n",
       "      <th></th>\n",
       "      <th></th>\n",
       "      <th></th>\n",
       "      <th></th>\n",
       "      <th></th>\n",
       "      <th></th>\n",
       "      <th></th>\n",
       "      <th></th>\n",
       "      <th></th>\n",
       "      <th></th>\n",
       "      <th></th>\n",
       "      <th></th>\n",
       "      <th></th>\n",
       "      <th></th>\n",
       "      <th></th>\n",
       "      <th></th>\n",
       "      <th></th>\n",
       "      <th></th>\n",
       "      <th></th>\n",
       "    </tr>\n",
       "  </thead>\n",
       "  <tbody>\n",
       "    <tr>\n",
       "      <th rowspan=\"11\" valign=\"top\">0</th>\n",
       "      <th>1</th>\n",
       "      <td>14</td>\n",
       "      <td>59.999998</td>\n",
       "      <td>0.007</td>\n",
       "      <td>0.000162</td>\n",
       "      <td>0.000070</td>\n",
       "      <td>3.890276e-10</td>\n",
       "      <td>3.890276e-10</td>\n",
       "      <td>6.315250e-17</td>\n",
       "      <td>0.0</td>\n",
       "      <td>0.0</td>\n",
       "      <td>...</td>\n",
       "      <td>0.0</td>\n",
       "      <td>0.0</td>\n",
       "      <td>0.0</td>\n",
       "      <td>1</td>\n",
       "      <td>1</td>\n",
       "      <td>0</td>\n",
       "      <td>1</td>\n",
       "      <td>1</td>\n",
       "      <td>0</td>\n",
       "      <td>1.607086e+09</td>\n",
       "    </tr>\n",
       "    <tr>\n",
       "      <th>1</th>\n",
       "      <td>14</td>\n",
       "      <td>60.004998</td>\n",
       "      <td>0.007</td>\n",
       "      <td>0.002223</td>\n",
       "      <td>0.001821</td>\n",
       "      <td>9.725861e-09</td>\n",
       "      <td>1.011489e-08</td>\n",
       "      <td>2.168783e-14</td>\n",
       "      <td>0.0</td>\n",
       "      <td>0.0</td>\n",
       "      <td>...</td>\n",
       "      <td>0.0</td>\n",
       "      <td>0.0</td>\n",
       "      <td>0.0</td>\n",
       "      <td>1</td>\n",
       "      <td>1</td>\n",
       "      <td>0</td>\n",
       "      <td>1</td>\n",
       "      <td>0</td>\n",
       "      <td>0</td>\n",
       "      <td>1.607086e+09</td>\n",
       "    </tr>\n",
       "    <tr>\n",
       "      <th>1</th>\n",
       "      <td>14</td>\n",
       "      <td>60.009798</td>\n",
       "      <td>0.007</td>\n",
       "      <td>0.004240</td>\n",
       "      <td>0.003501</td>\n",
       "      <td>9.336847e-09</td>\n",
       "      <td>1.945174e-08</td>\n",
       "      <td>6.127523e-14</td>\n",
       "      <td>0.0</td>\n",
       "      <td>0.0</td>\n",
       "      <td>...</td>\n",
       "      <td>0.0</td>\n",
       "      <td>0.0</td>\n",
       "      <td>0.0</td>\n",
       "      <td>1</td>\n",
       "      <td>1</td>\n",
       "      <td>0</td>\n",
       "      <td>1</td>\n",
       "      <td>0</td>\n",
       "      <td>0</td>\n",
       "      <td>1.607086e+09</td>\n",
       "    </tr>\n",
       "    <tr>\n",
       "      <th>1</th>\n",
       "      <td>14</td>\n",
       "      <td>60.014598</td>\n",
       "      <td>0.007</td>\n",
       "      <td>0.006281</td>\n",
       "      <td>0.005182</td>\n",
       "      <td>9.336833e-09</td>\n",
       "      <td>2.878857e-08</td>\n",
       "      <td>1.199166e-13</td>\n",
       "      <td>0.0</td>\n",
       "      <td>0.0</td>\n",
       "      <td>...</td>\n",
       "      <td>0.0</td>\n",
       "      <td>0.0</td>\n",
       "      <td>0.0</td>\n",
       "      <td>1</td>\n",
       "      <td>1</td>\n",
       "      <td>0</td>\n",
       "      <td>1</td>\n",
       "      <td>0</td>\n",
       "      <td>0</td>\n",
       "      <td>1.607086e+09</td>\n",
       "    </tr>\n",
       "    <tr>\n",
       "      <th>1</th>\n",
       "      <td>14</td>\n",
       "      <td>60.019398</td>\n",
       "      <td>0.007</td>\n",
       "      <td>0.008345</td>\n",
       "      <td>0.006863</td>\n",
       "      <td>9.337101e-09</td>\n",
       "      <td>3.812567e-08</td>\n",
       "      <td>1.978336e-13</td>\n",
       "      <td>0.0</td>\n",
       "      <td>0.0</td>\n",
       "      <td>...</td>\n",
       "      <td>0.0</td>\n",
       "      <td>0.0</td>\n",
       "      <td>0.0</td>\n",
       "      <td>1</td>\n",
       "      <td>1</td>\n",
       "      <td>0</td>\n",
       "      <td>1</td>\n",
       "      <td>0</td>\n",
       "      <td>0</td>\n",
       "      <td>1.607086e+09</td>\n",
       "    </tr>\n",
       "    <tr>\n",
       "      <th>...</th>\n",
       "      <td>...</td>\n",
       "      <td>...</td>\n",
       "      <td>...</td>\n",
       "      <td>...</td>\n",
       "      <td>...</td>\n",
       "      <td>...</td>\n",
       "      <td>...</td>\n",
       "      <td>...</td>\n",
       "      <td>...</td>\n",
       "      <td>...</td>\n",
       "      <td>...</td>\n",
       "      <td>...</td>\n",
       "      <td>...</td>\n",
       "      <td>...</td>\n",
       "      <td>...</td>\n",
       "      <td>...</td>\n",
       "      <td>...</td>\n",
       "      <td>...</td>\n",
       "      <td>...</td>\n",
       "      <td>...</td>\n",
       "      <td>...</td>\n",
       "    </tr>\n",
       "    <tr>\n",
       "      <th>1</th>\n",
       "      <td>14</td>\n",
       "      <td>109192.550478</td>\n",
       "      <td>0.007</td>\n",
       "      <td>0.017516</td>\n",
       "      <td>0.007003</td>\n",
       "      <td>1.945219e-05</td>\n",
       "      <td>6.995014e-02</td>\n",
       "      <td>3.054203e-06</td>\n",
       "      <td>0.0</td>\n",
       "      <td>0.0</td>\n",
       "      <td>...</td>\n",
       "      <td>0.0</td>\n",
       "      <td>0.0</td>\n",
       "      <td>0.0</td>\n",
       "      <td>1</td>\n",
       "      <td>1</td>\n",
       "      <td>0</td>\n",
       "      <td>0</td>\n",
       "      <td>0</td>\n",
       "      <td>1</td>\n",
       "      <td>1.607195e+09</td>\n",
       "    </tr>\n",
       "    <tr>\n",
       "      <th>1</th>\n",
       "      <td>14</td>\n",
       "      <td>109202.550676</td>\n",
       "      <td>0.007</td>\n",
       "      <td>0.017500</td>\n",
       "      <td>0.007003</td>\n",
       "      <td>1.945218e-05</td>\n",
       "      <td>6.996959e-02</td>\n",
       "      <td>3.054543e-06</td>\n",
       "      <td>0.0</td>\n",
       "      <td>0.0</td>\n",
       "      <td>...</td>\n",
       "      <td>0.0</td>\n",
       "      <td>0.0</td>\n",
       "      <td>0.0</td>\n",
       "      <td>1</td>\n",
       "      <td>1</td>\n",
       "      <td>0</td>\n",
       "      <td>0</td>\n",
       "      <td>0</td>\n",
       "      <td>1</td>\n",
       "      <td>1.607195e+09</td>\n",
       "    </tr>\n",
       "    <tr>\n",
       "      <th>1</th>\n",
       "      <td>14</td>\n",
       "      <td>109212.550874</td>\n",
       "      <td>0.007</td>\n",
       "      <td>0.017499</td>\n",
       "      <td>0.007003</td>\n",
       "      <td>1.945216e-05</td>\n",
       "      <td>6.998904e-02</td>\n",
       "      <td>3.054884e-06</td>\n",
       "      <td>0.0</td>\n",
       "      <td>0.0</td>\n",
       "      <td>...</td>\n",
       "      <td>0.0</td>\n",
       "      <td>0.0</td>\n",
       "      <td>0.0</td>\n",
       "      <td>1</td>\n",
       "      <td>1</td>\n",
       "      <td>0</td>\n",
       "      <td>0</td>\n",
       "      <td>0</td>\n",
       "      <td>1</td>\n",
       "      <td>1.607195e+09</td>\n",
       "    </tr>\n",
       "    <tr>\n",
       "      <th>1</th>\n",
       "      <td>14</td>\n",
       "      <td>109222.551071</td>\n",
       "      <td>0.007</td>\n",
       "      <td>0.017521</td>\n",
       "      <td>0.007003</td>\n",
       "      <td>1.945218e-05</td>\n",
       "      <td>7.000849e-02</td>\n",
       "      <td>3.055224e-06</td>\n",
       "      <td>0.0</td>\n",
       "      <td>0.0</td>\n",
       "      <td>...</td>\n",
       "      <td>0.0</td>\n",
       "      <td>0.0</td>\n",
       "      <td>0.0</td>\n",
       "      <td>1</td>\n",
       "      <td>1</td>\n",
       "      <td>0</td>\n",
       "      <td>0</td>\n",
       "      <td>0</td>\n",
       "      <td>1</td>\n",
       "      <td>1.607195e+09</td>\n",
       "    </tr>\n",
       "    <tr>\n",
       "      <th>1</th>\n",
       "      <td>14</td>\n",
       "      <td>109230.506869</td>\n",
       "      <td>0.007</td>\n",
       "      <td>0.017507</td>\n",
       "      <td>0.007003</td>\n",
       "      <td>1.547545e-05</td>\n",
       "      <td>7.002397e-02</td>\n",
       "      <td>3.055495e-06</td>\n",
       "      <td>0.0</td>\n",
       "      <td>0.0</td>\n",
       "      <td>...</td>\n",
       "      <td>0.0</td>\n",
       "      <td>0.0</td>\n",
       "      <td>0.0</td>\n",
       "      <td>1</td>\n",
       "      <td>1</td>\n",
       "      <td>0</td>\n",
       "      <td>0</td>\n",
       "      <td>0</td>\n",
       "      <td>1</td>\n",
       "      <td>1.607195e+09</td>\n",
       "    </tr>\n",
       "  </tbody>\n",
       "</table>\n",
       "<p>7212 rows × 35 columns</p>\n",
       "</div>"
      ],
      "text/plain": [
       "            I Range           time  control_I       Ewe         I  \\\n",
       "z cycle Ns                                                          \n",
       "0       1        14      59.999998      0.007  0.000162  0.000070   \n",
       "        1        14      60.004998      0.007  0.002223  0.001821   \n",
       "        1        14      60.009798      0.007  0.004240  0.003501   \n",
       "        1        14      60.014598      0.007  0.006281  0.005182   \n",
       "        1        14      60.019398      0.007  0.008345  0.006863   \n",
       "...             ...            ...        ...       ...       ...   \n",
       "        1        14  109192.550478      0.007  0.017516  0.007003   \n",
       "        1        14  109202.550676      0.007  0.017500  0.007003   \n",
       "        1        14  109212.550874      0.007  0.017499  0.007003   \n",
       "        1        14  109222.551071      0.007  0.017521  0.007003   \n",
       "        1        14  109230.506869      0.007  0.017507  0.007003   \n",
       "\n",
       "                      dq        (Q-Qo)        Energy  freq  |Z|  ...  \\\n",
       "z cycle Ns                                                       ...   \n",
       "0       1   3.890276e-10  3.890276e-10  6.315250e-17   0.0  0.0  ...   \n",
       "        1   9.725861e-09  1.011489e-08  2.168783e-14   0.0  0.0  ...   \n",
       "        1   9.336847e-09  1.945174e-08  6.127523e-14   0.0  0.0  ...   \n",
       "        1   9.336833e-09  2.878857e-08  1.199166e-13   0.0  0.0  ...   \n",
       "        1   9.337101e-09  3.812567e-08  1.978336e-13   0.0  0.0  ...   \n",
       "...                  ...           ...           ...   ...  ...  ...   \n",
       "        1   1.945219e-05  6.995014e-02  3.054203e-06   0.0  0.0  ...   \n",
       "        1   1.945218e-05  6.996959e-02  3.054543e-06   0.0  0.0  ...   \n",
       "        1   1.945216e-05  6.998904e-02  3.054884e-06   0.0  0.0  ...   \n",
       "        1   1.945218e-05  7.000849e-02  3.055224e-06   0.0  0.0  ...   \n",
       "        1   1.547545e-05  7.002397e-02  3.055495e-06   0.0  0.0  ...   \n",
       "\n",
       "            Energy discharge  Capacitance charge  Capacitance discharge  mode  \\\n",
       "z cycle Ns                                                                      \n",
       "0       1                0.0                 0.0                    0.0     1   \n",
       "        1                0.0                 0.0                    0.0     1   \n",
       "        1                0.0                 0.0                    0.0     1   \n",
       "        1                0.0                 0.0                    0.0     1   \n",
       "        1                0.0                 0.0                    0.0     1   \n",
       "...                      ...                 ...                    ...   ...   \n",
       "        1                0.0                 0.0                    0.0     1   \n",
       "        1                0.0                 0.0                    0.0     1   \n",
       "        1                0.0                 0.0                    0.0     1   \n",
       "        1                0.0                 0.0                    0.0     1   \n",
       "        1                0.0                 0.0                    0.0     1   \n",
       "\n",
       "            ox/red  error  control changes  Ns changes  counter inc.  \\\n",
       "z cycle Ns                                                             \n",
       "0       1        1      0                1           1             0   \n",
       "        1        1      0                1           0             0   \n",
       "        1        1      0                1           0             0   \n",
       "        1        1      0                1           0             0   \n",
       "        1        1      0                1           0             0   \n",
       "...            ...    ...              ...         ...           ...   \n",
       "        1        1      0                0           0             1   \n",
       "        1        1      0                0           0             1   \n",
       "        1        1      0                0           0             1   \n",
       "        1        1      0                0           0             1   \n",
       "        1        1      0                0           0             1   \n",
       "\n",
       "                     uts  \n",
       "z cycle Ns                \n",
       "0       1   1.607086e+09  \n",
       "        1   1.607086e+09  \n",
       "        1   1.607086e+09  \n",
       "        1   1.607086e+09  \n",
       "        1   1.607086e+09  \n",
       "...                  ...  \n",
       "        1   1.607195e+09  \n",
       "        1   1.607195e+09  \n",
       "        1   1.607195e+09  \n",
       "        1   1.607195e+09  \n",
       "        1   1.607195e+09  \n",
       "\n",
       "[7212 rows x 35 columns]"
      ]
     },
     "execution_count": 31,
     "metadata": {},
     "output_type": "execute_result"
    }
   ],
   "source": [
    "data.loc[(0, 1), :]"
   ]
  },
  {
   "cell_type": "code",
   "execution_count": 6,
   "id": "7a37e99c",
   "metadata": {},
   "outputs": [
    {
     "data": {
      "text/plain": "            I Range          time  control_I       Ewe         I   dq  \\\nz cycle Ns                                                              \n0       4        12  72362.425748        0.0 -0.001705 -0.000327  0.0   \n        4        12  72363.754740        0.0 -0.001565 -0.000171  0.0   \n        4        12  72365.083753        0.0 -0.001529 -0.000126  0.0   \n        4        12  72366.412743        0.0 -0.001516 -0.000063  0.0   \n        4        12  72367.741716        0.0 -0.001493 -0.000212  0.0   \n...             ...           ...        ...       ...       ...  ...   \n        4        13  72635.010072        0.0 -0.001519 -0.000453  0.0   \n        4        13  72685.269755        0.0 -0.001511 -0.000456  0.0   \n        4        13  72748.771451        0.0 -0.001516 -0.000452  0.0   \n        4        13  72829.054847        0.0 -0.001515 -0.000460  0.0   \n        4        13  72930.455563        0.0 -0.001506 -0.000467  0.0   \n\n              (Q-Qo)    Energy          freq          |Z|  ...  \\\nz cycle Ns                                                 ...   \n0       4   0.000059  0.000002  1.000019e+06   596.795044  ...   \n        4   0.000059  0.000002  7.916791e+05   625.290649  ...   \n        4   0.000059  0.000002  6.267629e+05   678.947205  ...   \n        4   0.000059  0.000002  4.961958e+05   751.490295  ...   \n        4   0.000059  0.000002  3.928240e+05   834.806763  ...   \n...              ...       ...           ...          ...  ...   \n        4   0.000030  0.000002  2.547112e-01  1371.363403  ...   \n        4   0.000024  0.000002  2.017066e-01  1389.139771  ...   \n        4   0.000017  0.000002  1.595951e-01  1407.061157  ...   \n        4   0.000009  0.000002  1.262034e-01  1426.464722  ...   \n        4  -0.000003  0.000002  9.990411e-02  1445.889526  ...   \n\n            Energy discharge  Capacitance charge  Capacitance discharge  mode  \\\nz cycle Ns                                                                      \n0       4       9.975237e-07                 0.0                    0.0     3   \n        4       9.975237e-07                 0.0                    0.0     3   \n        4       9.975237e-07                 0.0                    0.0     3   \n        4       9.975237e-07                 0.0                    0.0     3   \n        4       9.975237e-07                 0.0                    0.0     3   \n...                      ...                 ...                    ...   ...   \n        4       9.975237e-07                 0.0                    0.0     3   \n        4       9.975237e-07                 0.0                    0.0     3   \n        4       9.975237e-07                 0.0                    0.0     3   \n        4       9.975237e-07                 0.0                    0.0     3   \n        4       9.975237e-07                 0.0                    0.0     3   \n\n            ox/red  error  control changes  Ns changes  counter inc.  \\\nz cycle Ns                                                             \n0       4        0      0                1           0             0   \n        4        0      0                1           0             0   \n        4        0      0                1           0             0   \n        4        0      0                1           0             0   \n        4        0      0                1           0             0   \n...            ...    ...              ...         ...           ...   \n        4        0      0                1           0             0   \n        4        0      0                1           0             0   \n        4        0      0                1           0             0   \n        4        0      0                1           0             0   \n        4        0      0                1           0             0   \n\n                     uts  \nz cycle Ns                \n0       4   1.607158e+09  \n        4   1.607158e+09  \n        4   1.607158e+09  \n        4   1.607158e+09  \n        4   1.607158e+09  \n...                  ...  \n        4   1.607159e+09  \n        4   1.607159e+09  \n        4   1.607159e+09  \n        4   1.607159e+09  \n        4   1.607159e+09  \n\n[70 rows x 35 columns]",
      "text/html": "<div>\n<style scoped>\n    .dataframe tbody tr th:only-of-type {\n        vertical-align: middle;\n    }\n\n    .dataframe tbody tr th {\n        vertical-align: top;\n    }\n\n    .dataframe thead th {\n        text-align: right;\n    }\n</style>\n<table border=\"1\" class=\"dataframe\">\n  <thead>\n    <tr style=\"text-align: right;\">\n      <th></th>\n      <th></th>\n      <th>I Range</th>\n      <th>time</th>\n      <th>control_I</th>\n      <th>Ewe</th>\n      <th>I</th>\n      <th>dq</th>\n      <th>(Q-Qo)</th>\n      <th>Energy</th>\n      <th>freq</th>\n      <th>|Z|</th>\n      <th>...</th>\n      <th>Energy discharge</th>\n      <th>Capacitance charge</th>\n      <th>Capacitance discharge</th>\n      <th>mode</th>\n      <th>ox/red</th>\n      <th>error</th>\n      <th>control changes</th>\n      <th>Ns changes</th>\n      <th>counter inc.</th>\n      <th>uts</th>\n    </tr>\n    <tr>\n      <th>z cycle</th>\n      <th>Ns</th>\n      <th></th>\n      <th></th>\n      <th></th>\n      <th></th>\n      <th></th>\n      <th></th>\n      <th></th>\n      <th></th>\n      <th></th>\n      <th></th>\n      <th></th>\n      <th></th>\n      <th></th>\n      <th></th>\n      <th></th>\n      <th></th>\n      <th></th>\n      <th></th>\n      <th></th>\n      <th></th>\n      <th></th>\n    </tr>\n  </thead>\n  <tbody>\n    <tr>\n      <th rowspan=\"11\" valign=\"top\">0</th>\n      <th>4</th>\n      <td>12</td>\n      <td>72362.425748</td>\n      <td>0.0</td>\n      <td>-0.001705</td>\n      <td>-0.000327</td>\n      <td>0.0</td>\n      <td>0.000059</td>\n      <td>0.000002</td>\n      <td>1.000019e+06</td>\n      <td>596.795044</td>\n      <td>...</td>\n      <td>9.975237e-07</td>\n      <td>0.0</td>\n      <td>0.0</td>\n      <td>3</td>\n      <td>0</td>\n      <td>0</td>\n      <td>1</td>\n      <td>0</td>\n      <td>0</td>\n      <td>1.607158e+09</td>\n    </tr>\n    <tr>\n      <th>4</th>\n      <td>12</td>\n      <td>72363.754740</td>\n      <td>0.0</td>\n      <td>-0.001565</td>\n      <td>-0.000171</td>\n      <td>0.0</td>\n      <td>0.000059</td>\n      <td>0.000002</td>\n      <td>7.916791e+05</td>\n      <td>625.290649</td>\n      <td>...</td>\n      <td>9.975237e-07</td>\n      <td>0.0</td>\n      <td>0.0</td>\n      <td>3</td>\n      <td>0</td>\n      <td>0</td>\n      <td>1</td>\n      <td>0</td>\n      <td>0</td>\n      <td>1.607158e+09</td>\n    </tr>\n    <tr>\n      <th>4</th>\n      <td>12</td>\n      <td>72365.083753</td>\n      <td>0.0</td>\n      <td>-0.001529</td>\n      <td>-0.000126</td>\n      <td>0.0</td>\n      <td>0.000059</td>\n      <td>0.000002</td>\n      <td>6.267629e+05</td>\n      <td>678.947205</td>\n      <td>...</td>\n      <td>9.975237e-07</td>\n      <td>0.0</td>\n      <td>0.0</td>\n      <td>3</td>\n      <td>0</td>\n      <td>0</td>\n      <td>1</td>\n      <td>0</td>\n      <td>0</td>\n      <td>1.607158e+09</td>\n    </tr>\n    <tr>\n      <th>4</th>\n      <td>12</td>\n      <td>72366.412743</td>\n      <td>0.0</td>\n      <td>-0.001516</td>\n      <td>-0.000063</td>\n      <td>0.0</td>\n      <td>0.000059</td>\n      <td>0.000002</td>\n      <td>4.961958e+05</td>\n      <td>751.490295</td>\n      <td>...</td>\n      <td>9.975237e-07</td>\n      <td>0.0</td>\n      <td>0.0</td>\n      <td>3</td>\n      <td>0</td>\n      <td>0</td>\n      <td>1</td>\n      <td>0</td>\n      <td>0</td>\n      <td>1.607158e+09</td>\n    </tr>\n    <tr>\n      <th>4</th>\n      <td>12</td>\n      <td>72367.741716</td>\n      <td>0.0</td>\n      <td>-0.001493</td>\n      <td>-0.000212</td>\n      <td>0.0</td>\n      <td>0.000059</td>\n      <td>0.000002</td>\n      <td>3.928240e+05</td>\n      <td>834.806763</td>\n      <td>...</td>\n      <td>9.975237e-07</td>\n      <td>0.0</td>\n      <td>0.0</td>\n      <td>3</td>\n      <td>0</td>\n      <td>0</td>\n      <td>1</td>\n      <td>0</td>\n      <td>0</td>\n      <td>1.607158e+09</td>\n    </tr>\n    <tr>\n      <th>...</th>\n      <td>...</td>\n      <td>...</td>\n      <td>...</td>\n      <td>...</td>\n      <td>...</td>\n      <td>...</td>\n      <td>...</td>\n      <td>...</td>\n      <td>...</td>\n      <td>...</td>\n      <td>...</td>\n      <td>...</td>\n      <td>...</td>\n      <td>...</td>\n      <td>...</td>\n      <td>...</td>\n      <td>...</td>\n      <td>...</td>\n      <td>...</td>\n      <td>...</td>\n      <td>...</td>\n    </tr>\n    <tr>\n      <th>4</th>\n      <td>13</td>\n      <td>72635.010072</td>\n      <td>0.0</td>\n      <td>-0.001519</td>\n      <td>-0.000453</td>\n      <td>0.0</td>\n      <td>0.000030</td>\n      <td>0.000002</td>\n      <td>2.547112e-01</td>\n      <td>1371.363403</td>\n      <td>...</td>\n      <td>9.975237e-07</td>\n      <td>0.0</td>\n      <td>0.0</td>\n      <td>3</td>\n      <td>0</td>\n      <td>0</td>\n      <td>1</td>\n      <td>0</td>\n      <td>0</td>\n      <td>1.607159e+09</td>\n    </tr>\n    <tr>\n      <th>4</th>\n      <td>13</td>\n      <td>72685.269755</td>\n      <td>0.0</td>\n      <td>-0.001511</td>\n      <td>-0.000456</td>\n      <td>0.0</td>\n      <td>0.000024</td>\n      <td>0.000002</td>\n      <td>2.017066e-01</td>\n      <td>1389.139771</td>\n      <td>...</td>\n      <td>9.975237e-07</td>\n      <td>0.0</td>\n      <td>0.0</td>\n      <td>3</td>\n      <td>0</td>\n      <td>0</td>\n      <td>1</td>\n      <td>0</td>\n      <td>0</td>\n      <td>1.607159e+09</td>\n    </tr>\n    <tr>\n      <th>4</th>\n      <td>13</td>\n      <td>72748.771451</td>\n      <td>0.0</td>\n      <td>-0.001516</td>\n      <td>-0.000452</td>\n      <td>0.0</td>\n      <td>0.000017</td>\n      <td>0.000002</td>\n      <td>1.595951e-01</td>\n      <td>1407.061157</td>\n      <td>...</td>\n      <td>9.975237e-07</td>\n      <td>0.0</td>\n      <td>0.0</td>\n      <td>3</td>\n      <td>0</td>\n      <td>0</td>\n      <td>1</td>\n      <td>0</td>\n      <td>0</td>\n      <td>1.607159e+09</td>\n    </tr>\n    <tr>\n      <th>4</th>\n      <td>13</td>\n      <td>72829.054847</td>\n      <td>0.0</td>\n      <td>-0.001515</td>\n      <td>-0.000460</td>\n      <td>0.0</td>\n      <td>0.000009</td>\n      <td>0.000002</td>\n      <td>1.262034e-01</td>\n      <td>1426.464722</td>\n      <td>...</td>\n      <td>9.975237e-07</td>\n      <td>0.0</td>\n      <td>0.0</td>\n      <td>3</td>\n      <td>0</td>\n      <td>0</td>\n      <td>1</td>\n      <td>0</td>\n      <td>0</td>\n      <td>1.607159e+09</td>\n    </tr>\n    <tr>\n      <th>4</th>\n      <td>13</td>\n      <td>72930.455563</td>\n      <td>0.0</td>\n      <td>-0.001506</td>\n      <td>-0.000467</td>\n      <td>0.0</td>\n      <td>-0.000003</td>\n      <td>0.000002</td>\n      <td>9.990411e-02</td>\n      <td>1445.889526</td>\n      <td>...</td>\n      <td>9.975237e-07</td>\n      <td>0.0</td>\n      <td>0.0</td>\n      <td>3</td>\n      <td>0</td>\n      <td>0</td>\n      <td>1</td>\n      <td>0</td>\n      <td>0</td>\n      <td>1.607159e+09</td>\n    </tr>\n  </tbody>\n</table>\n<p>70 rows × 35 columns</p>\n</div>"
     },
     "execution_count": 6,
     "metadata": {},
     "output_type": "execute_result"
    }
   ],
   "source": [
    "data.loc[(0, 4)]"
   ]
  },
  {
   "cell_type": "code",
   "execution_count": 14,
   "id": "6e64cd86",
   "metadata": {
    "pycharm": {
     "name": "#%%\n"
    }
   },
   "outputs": [
    {
     "data": {
      "text/plain": "z cycle  Ns\n0        1     0.0\n         1     0.0\n         1     0.0\n         1     0.0\n         1     0.0\n              ... \n68       1     0.0\n         1     0.0\n         1     0.0\n         1     0.0\n         1     0.0\nName: freq, Length: 252420, dtype: float64"
     },
     "execution_count": 14,
     "metadata": {},
     "output_type": "execute_result"
    }
   ],
   "source": [
    "data.loc[(slice(None), 1), testFrame.eis_params[\"frequency\"]]"
   ]
  },
  {
   "cell_type": "code",
   "execution_count": 22,
   "outputs": [],
   "source": [
    "import eclabfiles as ecf\n",
    "testData = ecf.to_df(path1 + file)\n",
    "\n"
   ],
   "metadata": {
    "collapsed": false,
    "pycharm": {
     "name": "#%%\n"
    }
   }
  },
  {
   "cell_type": "code",
   "execution_count": 25,
   "outputs": [
    {
     "name": "stderr",
     "output_type": "stream",
     "text": [
      "C:\\Users\\ulsa\\AppData\\Local\\Programs\\Python\\Python39\\lib\\site-packages\\pandas\\core\\arraylike.py:364: RuntimeWarning: divide by zero encountered in log10\n",
      "  result = getattr(ufunc, method)(*inputs, **kwargs)\n",
      "C:\\Users\\ulsa\\AppData\\Local\\Temp/ipykernel_2936/2459570572.py:7: SettingWithCopyWarning: \n",
      "A value is trying to be set on a copy of a slice from a DataFrame.\n",
      "Try using .loc[row_indexer,col_indexer] = value instead\n",
      "\n",
      "See the caveats in the documentation: https://pandas.pydata.org/pandas-docs/stable/user_guide/indexing.html#returning-a-view-versus-a-copy\n",
      "  plotData[\"logfreq\"] = np.log10(testData[\"freq\"])\n"
     ]
    },
    {
     "data": {
      "text/plain": "<AxesSubplot:>"
     },
     "execution_count": 25,
     "metadata": {},
     "output_type": "execute_result"
    },
    {
     "data": {
      "text/plain": "<Figure size 432x288 with 1 Axes>",
      "image/png": "[encoded data removed]"
     },
     "metadata": {
      "needs_background": "light"
     },
     "output_type": "display_data"
    }
   ],
   "source": [
    "import numpy as np\n",
    "import matplotlib.pyplot as plt\n",
    "%matplotlib inline\n",
    "\n",
    "mask = testData[\"z cycle\"] == 0\n",
    "plotData = testData[mask]\n",
    "plotData[\"logfreq\"] = np.log10(testData[\"freq\"])\n",
    "plotData.plot(y=[\"z cycle\", \"Ns\", \"logfreq\"])"
   ],
   "metadata": {
    "collapsed": false,
    "pycharm": {
     "name": "#%%\n"
    }
   }
  },
  {
   "cell_type": "code",
   "execution_count": 36,
   "outputs": [
    {
     "name": "stdout",
     "output_type": "stream",
     "text": [
      "4\n",
      "0\n",
      "0\n",
      "4\n",
      "8\n",
      "4\n",
      "5\n"
     ]
    }
   ],
   "source": [
    "for p in testData.attrs['params']:\n",
    "    print(p[\"ctrl_type\"])"
   ],
   "metadata": {
    "collapsed": false,
    "pycharm": {
     "name": "#%%\n"
    }
   }
  },
  {
   "cell_type": "code",
   "execution_count": 37,
   "outputs": [
    {
     "data": {
      "text/plain": "        Ns  I Range          time  control_I       Ewe    I   dq    (Q-Qo)  \\\n0        0       14  0.000000e+00        0.0  0.000054  0.0  0.0  0.000000   \n1        0       14  1.000000e+00        0.0  0.000022  0.0  0.0  0.000000   \n2        0       14  2.000000e+00        0.0  0.000027  0.0  0.0  0.000000   \n3        0       14  3.000000e+00        0.0  0.000024  0.0  0.0  0.000000   \n4        0       14  4.000000e+00        0.0  0.000037  0.0  0.0  0.000000   \n...     ..      ...           ...        ...       ...  ...  ...       ...   \n514963   5       14  5.122004e+06        0.0 -0.001546  0.0  0.0  0.000466   \n514964   5       14  5.122014e+06        0.0 -0.001540  0.0  0.0  0.000466   \n514965   5       14  5.122024e+06        0.0 -0.001521  0.0  0.0  0.000466   \n514966   5       14  5.122024e+06        0.0 -0.001519  0.0  0.0  0.000466   \n514967   6       14  5.122024e+06        0.0 -0.001518  0.0  0.0  0.000466   \n\n          Energy  freq  ...  Energy discharge  Capacitance charge  \\\n0       0.000000   0.0  ...          0.000000                 0.0   \n1       0.000000   0.0  ...          0.000000                 0.0   \n2       0.000000   0.0  ...          0.000000                 0.0   \n3       0.000000   0.0  ...          0.000000                 0.0   \n4       0.000000   0.0  ...          0.000000                 0.0   \n...          ...   ...  ...               ...                 ...   \n514963  0.000277   0.0  ...          0.000003                 0.0   \n514964  0.000277   0.0  ...          0.000003                 0.0   \n514965  0.000277   0.0  ...          0.000003                 0.0   \n514966  0.000277   0.0  ...          0.000003                 0.0   \n514967  0.000277   0.0  ...          0.000003                 0.0   \n\n        Capacitance discharge  mode  ox/red  error  control changes  \\\n0                         0.0     3       0      0                0   \n1                         0.0     3       0      0                0   \n2                         0.0     3       0      0                0   \n3                         0.0     3       0      0                0   \n4                         0.0     3       0      0                0   \n...                       ...   ...     ...    ...              ...   \n514963                    0.0     3       0      0                0   \n514964                    0.0     3       0      0                0   \n514965                    0.0     3       0      0                0   \n514966                    0.0     3       0      0                0   \n514967                    0.0     3       0      0                0   \n\n        Ns changes  counter inc.           uts  \n0                0             0  1.607086e+09  \n1                0             0  1.607086e+09  \n2                0             0  1.607086e+09  \n3                0             0  1.607086e+09  \n4                0             0  1.607086e+09  \n...            ...           ...           ...  \n514963           0             1  1.612208e+09  \n514964           0             1  1.612208e+09  \n514965           1             1  1.612208e+09  \n514966           0             1  1.612208e+09  \n514967           1             1  1.612208e+09  \n\n[514968 rows x 37 columns]",
      "text/html": "<div>\n<style scoped>\n    .dataframe tbody tr th:only-of-type {\n        vertical-align: middle;\n    }\n\n    .dataframe tbody tr th {\n        vertical-align: top;\n    }\n\n    .dataframe thead th {\n        text-align: right;\n    }\n</style>\n<table border=\"1\" class=\"dataframe\">\n  <thead>\n    <tr style=\"text-align: right;\">\n      <th></th>\n      <th>Ns</th>\n      <th>I Range</th>\n      <th>time</th>\n      <th>control_I</th>\n      <th>Ewe</th>\n      <th>I</th>\n      <th>dq</th>\n      <th>(Q-Qo)</th>\n      <th>Energy</th>\n      <th>freq</th>\n      <th>...</th>\n      <th>Energy discharge</th>\n      <th>Capacitance charge</th>\n      <th>Capacitance discharge</th>\n      <th>mode</th>\n      <th>ox/red</th>\n      <th>error</th>\n      <th>control changes</th>\n      <th>Ns changes</th>\n      <th>counter inc.</th>\n      <th>uts</th>\n    </tr>\n  </thead>\n  <tbody>\n    <tr>\n      <th>0</th>\n      <td>0</td>\n      <td>14</td>\n      <td>0.000000e+00</td>\n      <td>0.0</td>\n      <td>0.000054</td>\n      <td>0.0</td>\n      <td>0.0</td>\n      <td>0.000000</td>\n      <td>0.000000</td>\n      <td>0.0</td>\n      <td>...</td>\n      <td>0.000000</td>\n      <td>0.0</td>\n      <td>0.0</td>\n      <td>3</td>\n      <td>0</td>\n      <td>0</td>\n      <td>0</td>\n      <td>0</td>\n      <td>0</td>\n      <td>1.607086e+09</td>\n    </tr>\n    <tr>\n      <th>1</th>\n      <td>0</td>\n      <td>14</td>\n      <td>1.000000e+00</td>\n      <td>0.0</td>\n      <td>0.000022</td>\n      <td>0.0</td>\n      <td>0.0</td>\n      <td>0.000000</td>\n      <td>0.000000</td>\n      <td>0.0</td>\n      <td>...</td>\n      <td>0.000000</td>\n      <td>0.0</td>\n      <td>0.0</td>\n      <td>3</td>\n      <td>0</td>\n      <td>0</td>\n      <td>0</td>\n      <td>0</td>\n      <td>0</td>\n      <td>1.607086e+09</td>\n    </tr>\n    <tr>\n      <th>2</th>\n      <td>0</td>\n      <td>14</td>\n      <td>2.000000e+00</td>\n      <td>0.0</td>\n      <td>0.000027</td>\n      <td>0.0</td>\n      <td>0.0</td>\n      <td>0.000000</td>\n      <td>0.000000</td>\n      <td>0.0</td>\n      <td>...</td>\n      <td>0.000000</td>\n      <td>0.0</td>\n      <td>0.0</td>\n      <td>3</td>\n      <td>0</td>\n      <td>0</td>\n      <td>0</td>\n      <td>0</td>\n      <td>0</td>\n      <td>1.607086e+09</td>\n    </tr>\n    <tr>\n      <th>3</th>\n      <td>0</td>\n      <td>14</td>\n      <td>3.000000e+00</td>\n      <td>0.0</td>\n      <td>0.000024</td>\n      <td>0.0</td>\n      <td>0.0</td>\n      <td>0.000000</td>\n      <td>0.000000</td>\n      <td>0.0</td>\n      <td>...</td>\n      <td>0.000000</td>\n      <td>0.0</td>\n      <td>0.0</td>\n      <td>3</td>\n      <td>0</td>\n      <td>0</td>\n      <td>0</td>\n      <td>0</td>\n      <td>0</td>\n      <td>1.607086e+09</td>\n    </tr>\n    <tr>\n      <th>4</th>\n      <td>0</td>\n      <td>14</td>\n      <td>4.000000e+00</td>\n      <td>0.0</td>\n      <td>0.000037</td>\n      <td>0.0</td>\n      <td>0.0</td>\n      <td>0.000000</td>\n      <td>0.000000</td>\n      <td>0.0</td>\n      <td>...</td>\n      <td>0.000000</td>\n      <td>0.0</td>\n      <td>0.0</td>\n      <td>3</td>\n      <td>0</td>\n      <td>0</td>\n      <td>0</td>\n      <td>0</td>\n      <td>0</td>\n      <td>1.607086e+09</td>\n    </tr>\n    <tr>\n      <th>...</th>\n      <td>...</td>\n      <td>...</td>\n      <td>...</td>\n      <td>...</td>\n      <td>...</td>\n      <td>...</td>\n      <td>...</td>\n      <td>...</td>\n      <td>...</td>\n      <td>...</td>\n      <td>...</td>\n      <td>...</td>\n      <td>...</td>\n      <td>...</td>\n      <td>...</td>\n      <td>...</td>\n      <td>...</td>\n      <td>...</td>\n      <td>...</td>\n      <td>...</td>\n      <td>...</td>\n    </tr>\n    <tr>\n      <th>514963</th>\n      <td>5</td>\n      <td>14</td>\n      <td>5.122004e+06</td>\n      <td>0.0</td>\n      <td>-0.001546</td>\n      <td>0.0</td>\n      <td>0.0</td>\n      <td>0.000466</td>\n      <td>0.000277</td>\n      <td>0.0</td>\n      <td>...</td>\n      <td>0.000003</td>\n      <td>0.0</td>\n      <td>0.0</td>\n      <td>3</td>\n      <td>0</td>\n      <td>0</td>\n      <td>0</td>\n      <td>0</td>\n      <td>1</td>\n      <td>1.612208e+09</td>\n    </tr>\n    <tr>\n      <th>514964</th>\n      <td>5</td>\n      <td>14</td>\n      <td>5.122014e+06</td>\n      <td>0.0</td>\n      <td>-0.001540</td>\n      <td>0.0</td>\n      <td>0.0</td>\n      <td>0.000466</td>\n      <td>0.000277</td>\n      <td>0.0</td>\n      <td>...</td>\n      <td>0.000003</td>\n      <td>0.0</td>\n      <td>0.0</td>\n      <td>3</td>\n      <td>0</td>\n      <td>0</td>\n      <td>0</td>\n      <td>0</td>\n      <td>1</td>\n      <td>1.612208e+09</td>\n    </tr>\n    <tr>\n      <th>514965</th>\n      <td>5</td>\n      <td>14</td>\n      <td>5.122024e+06</td>\n      <td>0.0</td>\n      <td>-0.001521</td>\n      <td>0.0</td>\n      <td>0.0</td>\n      <td>0.000466</td>\n      <td>0.000277</td>\n      <td>0.0</td>\n      <td>...</td>\n      <td>0.000003</td>\n      <td>0.0</td>\n      <td>0.0</td>\n      <td>3</td>\n      <td>0</td>\n      <td>0</td>\n      <td>0</td>\n      <td>1</td>\n      <td>1</td>\n      <td>1.612208e+09</td>\n    </tr>\n    <tr>\n      <th>514966</th>\n      <td>5</td>\n      <td>14</td>\n      <td>5.122024e+06</td>\n      <td>0.0</td>\n      <td>-0.001519</td>\n      <td>0.0</td>\n      <td>0.0</td>\n      <td>0.000466</td>\n      <td>0.000277</td>\n      <td>0.0</td>\n      <td>...</td>\n      <td>0.000003</td>\n      <td>0.0</td>\n      <td>0.0</td>\n      <td>3</td>\n      <td>0</td>\n      <td>0</td>\n      <td>0</td>\n      <td>0</td>\n      <td>1</td>\n      <td>1.612208e+09</td>\n    </tr>\n    <tr>\n      <th>514967</th>\n      <td>6</td>\n      <td>14</td>\n      <td>5.122024e+06</td>\n      <td>0.0</td>\n      <td>-0.001518</td>\n      <td>0.0</td>\n      <td>0.0</td>\n      <td>0.000466</td>\n      <td>0.000277</td>\n      <td>0.0</td>\n      <td>...</td>\n      <td>0.000003</td>\n      <td>0.0</td>\n      <td>0.0</td>\n      <td>3</td>\n      <td>0</td>\n      <td>0</td>\n      <td>0</td>\n      <td>1</td>\n      <td>1</td>\n      <td>1.612208e+09</td>\n    </tr>\n  </tbody>\n</table>\n<p>514968 rows × 37 columns</p>\n</div>"
     },
     "execution_count": 37,
     "metadata": {},
     "output_type": "execute_result"
    }
   ],
   "source": [
    "testData"
   ],
   "metadata": {
    "collapsed": false,
    "pycharm": {
     "name": "#%%\n"
    }
   }
  },
  {
   "cell_type": "code",
   "execution_count": null,
   "outputs": [],
   "source": [],
   "metadata": {
    "collapsed": false,
    "pycharm": {
     "name": "#%%\n"
    }
   }
  }
 ],
 "metadata": {
  "kernelspec": {
   "display_name": "Python 3 (ipykernel)",
   "language": "python",
   "name": "python3"
  },
  "language_info": {
   "codemirror_mode": {
    "name": "ipython",
    "version": 3
   },
   "file_extension": ".py",
   "mimetype": "text/x-python",
   "name": "python",
   "nbconvert_exporter": "python",
   "pygments_lexer": "ipython3",
   "version": "3.9.7"
  }
 },
 "nbformat": 4,
 "nbformat_minor": 5
}