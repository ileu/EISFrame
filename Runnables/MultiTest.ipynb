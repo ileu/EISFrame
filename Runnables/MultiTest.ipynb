{
 "cells": [
  {
   "cell_type": "code",
   "execution_count": 18,
   "id": "3530bdc0",
   "metadata": {},
   "outputs": [],
   "source": [
    "import os\n",
    "import re\n",
    "import pandas as pd\n",
    "import eclabfiles as ecf\n",
    "\n",
    "def _get_default_data_param(columns):\n",
    "    col_names = {}\n",
    "    for col in columns:\n",
    "        if match := re.match(r'Ewe[^|]*', col):\n",
    "            col_names['voltage'] = match.group()\n",
    "        elif match := re.match(r'I[^|]*', col):\n",
    "            col_names['current'] = match.group()\n",
    "        elif match := re.match(r'Re\\(Z(we-ce)?\\)[^|]*', col):\n",
    "            col_names['real'] = match.group()\n",
    "        elif match := re.match(r'-Im\\(Z(we-ce)?\\)[^|]*', col):\n",
    "            col_names['imag'] = match.group()\n",
    "        elif match := re.match(r'Phase\\(Z(we-ce)?\\)[^|]*', col):\n",
    "            col_names['phase'] = match.group()\n",
    "        elif match := re.match(r'\\|Z(we-ce)?\\|[^|]*', col):\n",
    "            col_names['abs'] = match.group()\n",
    "        elif match := re.match(r'time[^|]*', col):\n",
    "            col_names['time'] = match.group()\n",
    "        elif match := re.match(r'(z )?cycle( number)?[^|]*', col):\n",
    "            col_names['cycle'] = match.group()\n",
    "        elif match := re.match(r'freq[^|]*', col):\n",
    "            col_names['frequency'] = match.group()\n",
    "        elif match := re.match(r'Ns', col):\n",
    "            col_names['Ns'] = match.group()\n",
    "    return col_names\n",
    "\n",
    "def load(path=None, files=None, cont_time=True):\n",
    "    if path is None:\n",
    "        path = self.eis_params[\"path\"]\n",
    "\n",
    "    if isinstance(files, list):\n",
    "        end_time = 0\n",
    "        data = []\n",
    "        for f in files:\n",
    "            d = load(path + f)\n",
    "            if cont_time:\n",
    "                start_time = d[0].time.iloc[0]\n",
    "                for c in d:\n",
    "                    c.time += end_time - start_time\n",
    "                end_time = d[-1].time.iloc[-1]\n",
    "\n",
    "            data += d\n",
    "\n",
    "        return data\n",
    "\n",
    "    if files is not None:\n",
    "        path = path + files\n",
    "\n",
    "    ext = os.path.splitext(path)[1][1:]\n",
    "\n",
    "    if ext in {\"csv\", 'txt'}:\n",
    "        data = pd.read_csv(path, sep=',', encoding='unicode_escape')\n",
    "    elif ext in {'mpr', 'mpt'}:\n",
    "        data = ecf.to_df(path)\n",
    "    else:\n",
    "        raise ValueError(f\"Datatype {ext} not supported\")\n",
    "\n",
    "    if data.empty:\n",
    "        raise ValueError(f\"File {path} has no data\")\n",
    "\n",
    "    col_names = _get_default_data_param(data.columns)\n",
    "    if col_names.get(\"cycle\") is None:\n",
    "        raise ValueError(f\"No cycles detetected in file {path}.\")\n",
    "\n",
    "    data.set_index([col_names[\"cycle\"], col_names.get(\"Ns\")], inplace=True)\n",
    "    data.sort_index(inplace=True)\n",
    "    return data\n",
    "\n"
   ]
  },
  {
   "cell_type": "code",
   "execution_count": 19,
   "id": "fcc03682",
   "metadata": {},
   "outputs": [
    {
     "name": "stdout",
     "output_type": "stream",
     "text": [
      "\\20201204_Rabeb_LLZTO_Batch4_rAcetonitryle-3days_Li300C_3mm_0p7th_PT_C15.mpr\n"
     ]
    }
   ],
   "source": [
    "from eisplottingtool import EISFrame\n",
    "\n",
    "path1 = r\"G:\\Collaborators\\Sauter Ulrich\\Projects\\EIS Tail\\Data\"\n",
    "path2 = r\"C:\\Users\\ueli\\Desktop\\Sauter Ulrich\\Projects\\EIS Tail\\Data\"\n",
    "file = r\"\\20201204_Rabeb_LLZTO_Batch4_rAcetonitryle-3days_Li300C_3mm_0p7th_PT_C15.mpr\"\n",
    "\n",
    "print(file)\n",
    "\n",
    "data = load(path2 + file)\n"
   ]
  },
  {
   "cell_type": "code",
   "execution_count": null,
   "id": "26a84c34",
   "metadata": {},
   "outputs": [],
   "source": [
    "print(data.columns)"
   ]
  },
  {
   "cell_type": "code",
   "execution_count": null,
   "id": "75c6d546",
   "metadata": {},
   "outputs": [],
   "source": [
    "print(data.loc[1])"
   ]
  },
  {
   "cell_type": "code",
   "execution_count": null,
   "id": "098aba19",
   "metadata": {},
   "outputs": [],
   "source": [
    "print(data.loc[0, 1])"
   ]
  },
  {
   "cell_type": "code",
   "execution_count": null,
   "id": "5929be41",
   "metadata": {},
   "outputs": [],
   "source": [
    "print(data.loc[(0, 1), :])"
   ]
  },
  {
   "cell_type": "code",
   "execution_count": null,
   "id": "7a37e99c",
   "metadata": {},
   "outputs": [],
   "source": [
    "print(data.loc[(0, 1), col_names[\"frequency\"]])"
   ]
  },
  {
   "cell_type": "code",
   "execution_count": null,
   "id": "69427858",
   "metadata": {},
   "outputs": [],
   "source": [
    "print(data.loc[([1, 2, 3], 1), col_names[\"frequency\"]])"
   ]
  },
  {
   "cell_type": "code",
   "execution_count": null,
   "id": "6e64cd86",
   "metadata": {},
   "outputs": [],
   "source": [
    "print(data.loc[(slice(None), 1), col_names[\"frequency\"]])"
   ]
  }
 ],
 "metadata": {
  "kernelspec": {
   "display_name": "Python 3 (ipykernel)",
   "language": "python",
   "name": "python3"
  },
  "language_info": {
   "codemirror_mode": {
    "name": "ipython",
    "version": 3
   },
   "file_extension": ".py",
   "mimetype": "text/x-python",
   "name": "python",
   "nbconvert_exporter": "python",
   "pygments_lexer": "ipython3",
   "version": "3.9.7"
  }
 },
 "nbformat": 4,
 "nbformat_minor": 5
}
