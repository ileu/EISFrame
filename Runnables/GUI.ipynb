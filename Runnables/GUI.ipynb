{
 "cells": [
  {
   "cell_type": "code",
   "execution_count": 1,
   "id": "300d3b6a",
   "metadata": {
    "scrolled": true
   },
   "outputs": [],
   "source": [
    "import eisplottingtool as ept\n",
    "from eisplottingtool.parser import parse_circuit\n",
    "import ipywidgets as widgets\n",
    "import matplotlib.pyplot as plt\n",
    "import matplotlib\n",
    "import matplotlib.cm as cm\n",
    "import numpy as np\n",
    "%matplotlib widget"
   ]
  },
  {
   "cell_type": "code",
   "execution_count": 8,
   "id": "a96cb657",
   "metadata": {
    "scrolled": false
   },
   "outputs": [
    {
     "data": {
      "application/vnd.jupyter.widget-view+json": {
       "model_id": "d495bad3e5074a528cf938dc61bccccc",
       "version_major": 2,
       "version_minor": 0
      },
      "text/plain": [
       "HBox(children=(VBox(children=(FloatSlider(value=1000.005, description='R0', max=2000.0, min=0.01), FloatSlider…"
      ]
     },
     "metadata": {},
     "output_type": "display_data"
    },
    {
     "data": {
      "application/vnd.jupyter.widget-view+json": {
       "model_id": "6665e6aa0b6a4156b01204fde955ead3",
       "version_major": 2,
       "version_minor": 0
      },
      "text/plain": [
       "Output()"
      ]
     },
     "metadata": {},
     "output_type": "display_data"
    },
    {
     "data": {
      "application/vnd.jupyter.widget-view+json": {
       "model_id": "b1e66a16b9d94d70acc1070cb522bfa2",
       "version_major": 2,
       "version_minor": 0
      },
      "text/html": [
       "\n",
       "            <div style=\"display: inline-block;\">\n",
       "                <div class=\"jupyter-widgets widget-label\" style=\"text-align: center;\">\n",
       "                    Figure\n",
       "                </div>\n",
       "                <img src='data:image/png;base64,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' width=600.0/>\n",
       "            </div>\n",
       "        "
      ],
      "text/plain": [
       "Canvas(toolbar=Toolbar(toolitems=[('Home', 'Reset original view', 'home', 'home'), ('Back', 'Back to previous …"
      ]
     },
     "metadata": {},
     "output_type": "display_data"
    }
   ],
   "source": [
    "# set up plot\n",
    "plt.close()\n",
    "fig, ax = plt.subplots(figsize=(6, 4))\n",
    "ax.grid(True)\n",
    "cb = None\n",
    "fig.clear()\n",
    "ax = plt.gca()\n",
    "\n",
    "path = r\"C:\\Users\\ueli\\Desktop\\Sauter Ulrich\\polishing-FC\"\n",
    "file1 = r\"\\20201021_Rabeb_LLZTO_Batch4_NOHT_Li300C_3mm_0p7th_EIS_01_PEIS_C16_01_PEIS_C02.mpr\"\n",
    "data = ept.load_data(path + file1)\n",
    "cycle = data[-1]\n",
    "# cycle.plot_nyquist(\n",
    "#         ax,\n",
    "#         plot_range=(-10, 260/0.07),\n",
    "#         scale=1\n",
    "#         )\n",
    "\n",
    "circuit = 'R0-p(R1,CPE1)-p(R2,CPE2)-Ws1'\n",
    "param_info, eqn = parse_circuit(circuit)\n",
    "interact = {}\n",
    "values = {}\n",
    "for param in param_info:\n",
    "    name, bounds, _ = param\n",
    "    sld = widgets.FloatSlider(value=sum(bounds)/2, min=bounds[0], max=bounds[1], description=name)\n",
    "    interact[name] = sld\n",
    "    values[name] = 1\n",
    "interact[\"freq\"] = widgets.IntRangeSlider(value=[-6,12], min=-20, max=20, step=1, description=\"freq\")\n",
    "    \n",
    "interact[\"color\"] = widgets.Checkbox(value=False, description=\"Color\")\n",
    "\n",
    "# freq = np.logspace(-6, 12, 200)\n",
    "\n",
    "\n",
    "norm = matplotlib.colors.Normalize(vmin=0, vmax=2, clip=True)\n",
    "mapper = cm.ScalarMappable(norm=norm, cmap=cm.bwr)\n",
    "scat = ax.scatter(0,\n",
    "            0,\n",
    "            cmap='bwr',\n",
    "            norm=norm,\n",
    "            zorder=5\n",
    "            )\n",
    "ax.set_xlim(-20,2024)\n",
    "ax.set_ylim(-20,2024)\n",
    "cb = fig.colorbar(mapper, label=r\"$\\omega\\cdot\\tau$ in multiples of $2\\pi$\")\n",
    "\n",
    "def update(**kwargs):\n",
    "    values.update(kwargs)\n",
    "    freq = np.logspace(*kwargs['freq'], 200)\n",
    "    res = eqn(values, freq)\n",
    "    scat.set_offsets(np.c_[res.real,-res.imag])\n",
    "    if kwargs['color']:\n",
    "        scat.set_facecolor(mapper.to_rgba(freq * param[\"Ws1_T\"] / 2 / np.pi))\n",
    "        fig.axes[1].set_visible(True)\n",
    "    else:\n",
    "        scat.set_facecolor('black')\n",
    "        fig.axes[1].set_visible(False)\n",
    "\n",
    "\n",
    "out = widgets.interactive_output(update, interact)\n",
    "half_way = len(interact) // 2\n",
    "left_box = widgets.VBox(list(interact.values())[:half_way+1])\n",
    "right_box = widgets.VBox(list(interact.values())[half_way+1:])\n",
    "boxes = widgets.HBox([left_box, right_box])\n",
    "display(boxes, out)"
   ]
  }
 ],
 "metadata": {
  "kernelspec": {
   "display_name": "Python 3 (ipykernel)",
   "language": "python",
   "name": "python3"
  },
  "language_info": {
   "codemirror_mode": {
    "name": "ipython",
    "version": 3
   },
   "file_extension": ".py",
   "mimetype": "text/x-python",
   "name": "python",
   "nbconvert_exporter": "python",
   "pygments_lexer": "ipython3",
   "version": "3.9.7"
  }
 },
 "nbformat": 4,
 "nbformat_minor": 5
}
