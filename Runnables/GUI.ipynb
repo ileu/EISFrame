{
 "cells": [
  {
   "cell_type": "code",
   "execution_count": 1,
   "id": "300d3b6a",
   "metadata": {
    "scrolled": true
   },
   "outputs": [],
   "source": [
    "import eisplottingtool as ept\n",
    "from eisplottingtool.parser import parse_circuit\n",
    "import ipywidgets as widgets\n",
    "import matplotlib.pyplot as plt\n",
    "import matplotlib\n",
    "import matplotlib.cm as cm\n",
    "import numpy as np\n",
    "%matplotlib widget"
   ]
  },
  {
   "cell_type": "code",
   "execution_count": 9,
   "id": "a96cb657",
   "metadata": {
    "scrolled": false
   },
   "outputs": [
    {
     "data": {
      "application/vnd.jupyter.widget-view+json": {
       "model_id": "f592ebde6a6745ad950c6198d2e6c911",
       "version_major": 2,
       "version_minor": 0
      },
      "text/plain": [
       "HBox(children=(VBox(children=(BoundedFloatText(value=1e-06, description='R0', max=2000.0, min=1e-06), BoundedF…"
      ]
     },
     "metadata": {},
     "output_type": "display_data"
    },
    {
     "data": {
      "application/vnd.jupyter.widget-view+json": {
       "model_id": "2226674c08f34aa0834b63358a047505",
       "version_major": 2,
       "version_minor": 0
      },
      "text/plain": [
       "Output()"
      ]
     },
     "metadata": {},
     "output_type": "display_data"
    },
    {
     "data": {
      "application/vnd.jupyter.widget-view+json": {
       "model_id": "870c4d411734459f9d3179f8a65a1dfa",
       "version_major": 2,
       "version_minor": 0
      },
      "text/html": [
       "\n",
       "            <div style=\"display: inline-block;\">\n",
       "                <div class=\"jupyter-widgets widget-label\" style=\"text-align: center;\">\n",
       "                    Figure\n",
       "                </div>\n",
       "                <img src='data:image/png;base64,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' width=600.0/>\n",
       "            </div>\n",
       "        "
      ],
      "text/plain": [
       "Canvas(toolbar=Toolbar(toolitems=[('Home', 'Reset original view', 'home', 'home'), ('Back', 'Back to previous …"
      ]
     },
     "metadata": {},
     "output_type": "display_data"
    }
   ],
   "source": [
    "# set up plot\n",
    "plt.close()\n",
    "fig, ax = plt.subplots(figsize=(6, 4))\n",
    "ax.grid(True)\n",
    "cb = None\n",
    "fig.clear()\n",
    "ax = plt.gca()\n",
    "\n",
    "path = r\"C:\\Users\\ueli\\Desktop\\Sauter Ulrich\\Projects\\Thickness\"\n",
    "file1 = r\"\\20211216_B10P2_Water-1W_HT400C-3h_Li-3mm-280C-30min_100um_EIS_01_PEIS_C04.mpr\"\n",
    "data = ept.load_data(path + file1)\n",
    "cycle = data[-1]\n",
    "cycle.plot_nyquist(\n",
    "        ax,\n",
    "        plot_range=(-10, 260/0.07),\n",
    "        scale=1\n",
    "        )\n",
    "\n",
    "circuit=\"R0-p(R1,CPE1)-p(R2,CPE2)-Ws1\"\n",
    "initial_par=[1e-6, 1065, 1.7e-9, 0.9, 50, 1e-2, 0.9, 1000, 2]\n",
    "param_info, eqn = parse_circuit(circuit)\n",
    "interact = {}\n",
    "values = {}\n",
    "for param, val in zip(param_info, initial_par):\n",
    "    name = param.name\n",
    "    bounds = param.bounds\n",
    "    sld = widgets.BoundedFloatText(value=val, min=bounds[0], max=bounds[1], description=name)\n",
    "    interact[name] = sld\n",
    "    values[name] = val\n",
    "interact[\"freq\"] = widgets.IntRangeSlider(value=[-6,12], min=-20, max=20, step=1, description=\"freq\")\n",
    "    \n",
    "interact[\"color\"] = widgets.Checkbox(value=False, description=\"Color\")\n",
    "\n",
    "\n",
    "norm = matplotlib.colors.Normalize(vmin=0, vmax=2, clip=True)\n",
    "mapper = cm.ScalarMappable(norm=norm, cmap=cm.bwr)\n",
    "scat = ax.scatter(0,\n",
    "            0,\n",
    "            cmap='bwr',\n",
    "            norm=norm,\n",
    "            zorder=5\n",
    "            )\n",
    "ax.set_xlim(-20,2024)\n",
    "ax.set_ylim(-20,2024)\n",
    "cb = fig.colorbar(mapper, label=r\"$\\omega\\cdot\\tau$ in multiples of $2\\pi$\")\n",
    "\n",
    "def update(**kwargs):\n",
    "    values.update(kwargs)\n",
    "    freq = np.logspace(*kwargs['freq'], 200)\n",
    "    res = eqn(values, freq)\n",
    "    scat.set_offsets(np.c_[res.real,-res.imag])\n",
    "    if kwargs['color']:\n",
    "        scat.set_facecolor(mapper.to_rgba(freq * param[\"Ws1_T\"] / 2 / np.pi))\n",
    "        fig.axes[1].set_visible(True)\n",
    "    else:\n",
    "        scat.set_facecolor('black')\n",
    "        fig.axes[1].set_visible(False)\n",
    "\n",
    "\n",
    "out = widgets.interactive_output(update, interact)\n",
    "half_way = len(interact) // 2\n",
    "left_box = widgets.VBox(list(interact.values())[:half_way+1])\n",
    "right_box = widgets.VBox(list(interact.values())[half_way+1:])\n",
    "boxes = widgets.HBox([left_box, right_box])\n",
    "display(boxes, out)"
   ]
  }
 ],
 "metadata": {
  "kernelspec": {
   "display_name": "Python 3 (ipykernel)",
   "language": "python",
   "name": "python3"
  },
  "language_info": {
   "codemirror_mode": {
    "name": "ipython",
    "version": 3
   },
   "file_extension": ".py",
   "mimetype": "text/x-python",
   "name": "python",
   "nbconvert_exporter": "python",
   "pygments_lexer": "ipython3",
   "version": "3.9.7"
  }
 },
 "nbformat": 4,
 "nbformat_minor": 5
}
