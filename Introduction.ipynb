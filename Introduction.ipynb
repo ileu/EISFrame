{
 "cells": [
  {
   "cell_type": "code",
   "execution_count": 17,
   "id": "1d0114b0",
   "metadata": {},
   "outputs": [
    {
     "name": "stdout",
     "output_type": "stream",
     "text": [
      "Hello world\n"
     ]
    }
   ],
   "source": [
    "# -*- coding: utf-8 -*-\n",
    "\"\"\"\n",
    "Created on Tue Feb 27 15:20:13 2018\n",
    "\n",
    "@author: Ueli\n",
    "\"\"\"\n",
    "\n",
    "# name convention\n",
    "variable_name = 45  # variables small letters (no camelcase)\n",
    "CONST_NAME = 324  # constants only capital letters\n",
    "\n",
    "\n",
    "def function_name():  # function names same as variable names\n",
    "    return 0  # intend is 4 spaces or tab\n",
    "\n",
    "\n",
    "# basic data types\n",
    "b = True  # Boolean\n",
    "i = 123  # Integer\n",
    "f = 1.34123  # float or double -> handled internally\n",
    "q = -4.8e-5  # -4.8*10^-5\n",
    "z = 2 + 3j  # complex number with imaginary unit j\n",
    "\n",
    "text = 'Hello '  # String\n",
    "text1 = \"world\"  # String\n",
    "print(text + text1)"
   ]
  },
  {
   "cell_type": "code",
   "execution_count": 18,
   "id": "00f76917",
   "metadata": {},
   "outputs": [
    {
     "name": "stdout",
     "output_type": "stream",
     "text": [
      "3\n",
      "1\n",
      "1000\n"
     ]
    }
   ],
   "source": [
    "a = 10\n",
    "b = 3\n",
    "print(a // b)  # integer division\n",
    "print(a % b)  # Modulo\n",
    "print(a ** b)  # a^b"
   ]
  },
  {
   "cell_type": "code",
   "execution_count": 19,
   "id": "e1c52eee",
   "metadata": {},
   "outputs": [
    {
     "name": "stdout",
     "output_type": "stream",
     "text": [
      "10\n",
      "0\n"
     ]
    }
   ],
   "source": [
    "# lists\n",
    "\n",
    "digits = [0, 1, 2, 3, 4, 5, 6, 7, 8, 9]\n",
    "empty = []  ## empty list\n",
    "\n",
    "print(len(digits))  # length of list\n",
    "print(digits[0])  # get element 0 from list"
   ]
  },
  {
   "cell_type": "code",
   "execution_count": 20,
   "id": "573a16a2",
   "metadata": {},
   "outputs": [
    {
     "name": "stdout",
     "output_type": "stream",
     "text": [
      "[0, 1, 2, 3, 4, 5, 6, 7, 8, 9, 10]\n",
      "[0, 1, 2, 3, 4, 7, 8, 9, 10]\n",
      "[0, 1, 2, 3, 4, 50, 7, 8, 9, 10]\n"
     ]
    }
   ],
   "source": [
    "digits = [0, 1, 2, 3, 4, 5, 6, 7, 8, 9]\n",
    "digits.append(10)  # add elemeent to the end of the list\n",
    "\n",
    "print(digits)\n",
    "\n",
    "digits.pop(6)  # remove 6th element of list\n",
    "digits.remove(5)  # remove this is element from list. In this case all 5\n",
    "\n",
    "print(digits)\n",
    "\n",
    "digits.insert(5, 50)  # insert element at specific place\n",
    "\n",
    "print(digits)\n",
    "\n",
    "# list doesnt need to contain the same datatypes"
   ]
  },
  {
   "cell_type": "code",
   "execution_count": 21,
   "id": "5b32108e",
   "metadata": {},
   "outputs": [
    {
     "name": "stdout",
     "output_type": "stream",
     "text": [
      "23\n",
      "{'name': 'Ueli', 'age': 23, 'height': 1.83, 'hair': 'brown'}\n"
     ]
    }
   ],
   "source": [
    "# tuples - are like constant list, cant be changed\n",
    "\n",
    "person = (\"Ueli\", 23, 1.83)\n",
    "\n",
    "# unpacking\n",
    "\n",
    "name, age, height = person\n",
    "\n",
    "# dicts - tupels with name, elements are called key and value\n",
    "\n",
    "person2 = {\"name\": \"Ueli\", \"age\": 23, \"height\": 1.83}\n",
    "print(person2[\"age\"])\n",
    "\n",
    "person2[\"hair\"] = \"brown\"  # add this key value pair\n",
    "\n",
    "print(person2)"
   ]
  },
  {
   "cell_type": "code",
   "execution_count": 22,
   "id": "5147d959",
   "metadata": {},
   "outputs": [
    {
     "name": "stdout",
     "output_type": "stream",
     "text": [
      "True\n",
      "True\n",
      "False\n"
     ]
    }
   ],
   "source": [
    "# Control statements\n",
    "\n",
    "a = 42\n",
    "b = 42\n",
    "c = 1\n",
    "d = 0\n",
    "\n",
    "print(a == b and d < c < b <= a)\n",
    "print(a == b and d < c and b <= a)\n",
    "print(not a == b or a == c)"
   ]
  },
  {
   "cell_type": "code",
   "execution_count": 23,
   "id": "7f78ac64",
   "metadata": {},
   "outputs": [
    {
     "name": "stdout",
     "output_type": "stream",
     "text": [
      "0\n"
     ]
    }
   ],
   "source": [
    "# if statements\n",
    "\n",
    "if a < b:\n",
    "    print(\"a < b\")\n",
    "elif a == b:  # else if\n",
    "    print(0)\n",
    "elif a:  # if a is not 0 -> true, and if 0 false\n",
    "    print(\"test\")\n",
    "else:\n",
    "    print(\"hallo\")"
   ]
  },
  {
   "cell_type": "code",
   "execution_count": 24,
   "id": "a4bd2858",
   "metadata": {},
   "outputs": [
    {
     "name": "stdout",
     "output_type": "stream",
     "text": [
      "0\n",
      "1\n",
      "2\n",
      "3\n",
      "4\n",
      "5\n",
      "6\n",
      "7\n",
      "8\n",
      "9\n"
     ]
    }
   ],
   "source": [
    "# while\n",
    "\n",
    "i = 0\n",
    "n = 10\n",
    "\n",
    "while i < n:\n",
    "    print(i)\n",
    "    i += 1"
   ]
  },
  {
   "cell_type": "code",
   "execution_count": 25,
   "id": "2acf1111",
   "metadata": {},
   "outputs": [
    {
     "name": "stdout",
     "output_type": "stream",
     "text": [
      "a\n",
      "b\n",
      "c\n",
      "d\n",
      "\n",
      "a\n",
      "b\n",
      "c\n",
      "d\n",
      "\n",
      "list at 0: a\n",
      "list at 1: b\n",
      "list at 2: c\n",
      "list at 3: d\n"
     ]
    }
   ],
   "source": [
    "# for loops - iterate over lists\n",
    "list = [\"a\", \"b\", \"c\", \"d\"]\n",
    "\n",
    "for letter in list:  # for each element do something\n",
    "    print(letter)\n",
    "\n",
    "print()\n",
    "for i in range(len(list)):  # \"standard\" for loop from other languages\n",
    "    print(list[i])\n",
    "\n",
    "print()\n",
    "for i, letter in enumerate(list):  # enumerate genreate a tuple with (index, element) of list\n",
    "    print(\"list at %d: %s\" % (i, letter))  # string formating"
   ]
  },
  {
   "cell_type": "code",
   "execution_count": 26,
   "id": "5de086fa",
   "metadata": {},
   "outputs": [
    {
     "name": "stdout",
     "output_type": "stream",
     "text": [
      "Hello world!\n",
      "7\n",
      "3\n",
      "(3, 1)\n",
      "(3, 1)\n",
      "15\n",
      "item with key name is Marcus\n",
      "item with key age is 18\n",
      "item with key height is 1\n"
     ]
    }
   ],
   "source": [
    "# functions\n",
    "\n",
    "def say_hello():\n",
    "    print(\"Hello world!\")\n",
    "\n",
    "\n",
    "say_hello()\n",
    "\n",
    "\n",
    "def sum(a, b):\n",
    "    return a + b\n",
    "\n",
    "\n",
    "print(sum(3, 4))\n",
    "\n",
    "\n",
    "# default values\n",
    "\n",
    "def integer_division(a, b, return_reminder=False):\n",
    "    if return_reminder:\n",
    "        return a // b, a % b\n",
    "\n",
    "    return a // b\n",
    "\n",
    "\n",
    "print(integer_division(10, 3))\n",
    "print(integer_division(10, 3, 1))\n",
    "print(integer_division(return_reminder=True, a=10, b=3))\n",
    "\n",
    "\n",
    "# *args and **kwargs\n",
    "def sum(*args):\n",
    "    sum = 0\n",
    "    for number in args:\n",
    "        sum += number\n",
    "    return sum\n",
    "\n",
    "\n",
    "print(sum(1, 2, 3, 4, 5))  # *args takes all arguments to a list\n",
    "\n",
    "\n",
    "def echo(**kwargs):  # kwargs is a dictionary -> needs key value\n",
    "    for key, value in kwargs.items():\n",
    "        print(\"item with key %s is %s\" % (key, value))\n",
    "\n",
    "\n",
    "echo(name=\"Marcus\", age=18, height=1)"
   ]
  },
  {
   "cell_type": "code",
   "execution_count": 27,
   "id": "985fffad",
   "metadata": {},
   "outputs": [
    {
     "name": "stdout",
     "output_type": "stream",
     "text": [
      "7\n",
      "True\n"
     ]
    }
   ],
   "source": [
    "# unpacking\n",
    "\n",
    "def sum(a, b):\n",
    "    return a + b\n",
    "\n",
    "\n",
    "list_numbers = [3, 4]\n",
    "\n",
    "print(sum(*list_numbers))  # * unpacks the values from the list\n",
    "\n",
    "\n",
    "def check_right_trianlge(a, b, c):\n",
    "    return a ** 2 + b ** 2 == c ** 2\n",
    "\n",
    "\n",
    "big_triangle = {\"a\": 30, \"b\": 40, \"c\": 50}\n",
    "\n",
    "print(check_right_trianlge(**big_triangle))\n"
   ]
  },
  {
   "cell_type": "code",
   "execution_count": 28,
   "id": "ab591c48",
   "metadata": {},
   "outputs": [
    {
     "name": "stdout",
     "output_type": "stream",
     "text": [
      "11\n"
     ]
    }
   ],
   "source": [
    "# lambda expressions\n",
    "\n",
    "f = lambda x: 2 * x + 3  # Normal functions\n",
    "g = lambda x: x ** 2\n",
    "\n",
    "\n",
    "def compose(f1, f2, x):\n",
    "    return f1(f2(x))\n",
    "\n",
    "\n",
    "print(compose(f, g, 2))"
   ]
  },
  {
   "cell_type": "code",
   "execution_count": 29,
   "id": "4ad815ef",
   "metadata": {},
   "outputs": [],
   "source": [
    "# classes\n",
    "class Person:\n",
    "    def __init__(self, name, age, height):\n",
    "        self.name = name\n",
    "        self.age = age\n",
    "        self.height = height\n"
   ]
  },
  {
   "cell_type": "code",
   "execution_count": 30,
   "id": "b76a3916",
   "metadata": {},
   "outputs": [
    {
     "ename": "ModuleNotFoundError",
     "evalue": "No module named 'numpy'",
     "output_type": "error",
     "traceback": [
      "\u001b[1;31m---------------------------------------------------------------------------\u001b[0m",
      "\u001b[1;31mModuleNotFoundError\u001b[0m                       Traceback (most recent call last)",
      "\u001b[1;32m~\\AppData\\Local\\Temp/ipykernel_19236/1513271302.py\u001b[0m in \u001b[0;36m<module>\u001b[1;34m\u001b[0m\n\u001b[0;32m      1\u001b[0m \u001b[1;31m# packages\u001b[0m\u001b[1;33m\u001b[0m\u001b[1;33m\u001b[0m\u001b[0m\n\u001b[0;32m      2\u001b[0m \u001b[1;33m\u001b[0m\u001b[0m\n\u001b[1;32m----> 3\u001b[1;33m \u001b[1;32mimport\u001b[0m \u001b[0mnumpy\u001b[0m \u001b[1;32mas\u001b[0m \u001b[0mnp\u001b[0m\u001b[1;33m\u001b[0m\u001b[1;33m\u001b[0m\u001b[0m\n\u001b[0m\u001b[0;32m      4\u001b[0m \u001b[1;33m\u001b[0m\u001b[0m\n\u001b[0;32m      5\u001b[0m \u001b[0ma\u001b[0m \u001b[1;33m=\u001b[0m \u001b[1;33m[\u001b[0m\u001b[1;36m1\u001b[0m\u001b[1;33m,\u001b[0m \u001b[1;36m4\u001b[0m\u001b[1;33m,\u001b[0m \u001b[1;36m9\u001b[0m\u001b[1;33m,\u001b[0m \u001b[1;36m16\u001b[0m\u001b[1;33m,\u001b[0m \u001b[1;36m25\u001b[0m\u001b[1;33m]\u001b[0m\u001b[1;33m\u001b[0m\u001b[1;33m\u001b[0m\u001b[0m\n",
      "\u001b[1;31mModuleNotFoundError\u001b[0m: No module named 'numpy'"
     ]
    }
   ],
   "source": [
    "# packages\n",
    "\n",
    "import numpy as np\n",
    "\n",
    "a = [1, 4, 9, 16, 25]\n",
    "a = np.array(a, dtype=np.float64)\n",
    "\n",
    "print(a)\n",
    "\n",
    "a = np.zeros((3, 4))  # 3x4 matrix with 0\n",
    "\n",
    "print(a)\n",
    "\n",
    "a = np.arange(5, 25, 2)  # like range but from numpy\n",
    "print(a)\n",
    "\n",
    "a = np.linspace(0, 1, 11)  # create lineare spaced list of values\n",
    "print(a)\n",
    "\n",
    "# slicing\n",
    "\n",
    "a = np.arange(0, 12).reshape((4, 3))  # change shape of matrix\n",
    "print(a)\n",
    "\n",
    "print(a[2])\n",
    "\n",
    "print(a[:, 2])\n",
    "\n",
    "b = np.arange(12)\n",
    "print(b)\n",
    "\n",
    "print(b[3:10])\n",
    "print(b[3:10:2])\n",
    "print(b[::-1])\n",
    "\n",
    "# broadcasting\n",
    "\n",
    "print(a + 1)\n",
    "print(a + [1, 2, 3])  # only functions if at least one dimension is matching\n",
    "\n",
    "# vectorized operations\n",
    "\n",
    "print(np.sin(a))  # calculates sin for each element\n",
    "\n",
    "# reduction operators\n",
    "\n",
    "print(np.sum(a))  # add all elements\n",
    "print(np.sum(a, axis=0))  # add only rows, i.e. dimension 0\n",
    "print(np.sum(a, axis=1))  # add only  columns\n",
    "\n",
    "# condition indexing\n",
    "\n",
    "print(a < 5)\n",
    "\n",
    "print(a[a < 5])  # only print values that are smaller than 5\n",
    "\n",
    "a[a >= 5] = 0\n",
    "print(a)\n"
   ]
  }
 ],
 "metadata": {
  "kernelspec": {
   "display_name": "Python 3 (ipykernel)",
   "language": "python",
   "name": "python3"
  },
  "language_info": {
   "codemirror_mode": {
    "name": "ipython",
    "version": 3
   },
   "file_extension": ".py",
   "mimetype": "text/x-python",
   "name": "python",
   "nbconvert_exporter": "python",
   "pygments_lexer": "ipython3",
   "version": "3.10.0"
  }
 },
 "nbformat": 4,
 "nbformat_minor": 5
}
