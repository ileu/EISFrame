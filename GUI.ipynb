{
 "cells": [
  {
   "cell_type": "code",
   "execution_count": 2,
   "id": "300d3b6a",
   "metadata": {},
   "outputs": [],
   "source": [
    "import matplotlib.pyplot as plt\n",
    "import Base\n",
    "import Parser.CircuitParserCalc as cpc\n",
    "%matplotlib widget"
   ]
  },
  {
   "cell_type": "code",
   "execution_count": 4,
   "id": "ec367066",
   "metadata": {},
   "outputs": [],
   "source": [
    "circuit_string = 'p(R1,CPE1)'\n",
    "value = cpc."
   ]
  }
 ],
 "metadata": {
  "kernelspec": {
   "display_name": "Basic39",
   "language": "python",
   "name": "basic39"
  },
  "language_info": {
   "codemirror_mode": {
    "name": "ipython",
    "version": 3
   },
   "file_extension": ".py",
   "mimetype": "text/x-python",
   "name": "python",
   "nbconvert_exporter": "python",
   "pygments_lexer": "ipython3",
   "version": "3.9.7"
  }
 },
 "nbformat": 4,
 "nbformat_minor": 5
}
