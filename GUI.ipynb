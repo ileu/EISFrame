{
 "cells": [
  {
   "cell_type": "code",
   "execution_count": 1,
   "id": "300d3b6a",
   "metadata": {},
   "outputs": [],
   "source": [
    "import Base\n",
    "import Parser.CircuitParserCalc as cpc\n",
    "import ipywidgets as widgets\n",
    "import matplotlib.pyplot as plt\n",
    "import matplotlib\n",
    "import matplotlib.cm as cm\n",
    "import numpy as np\n",
    "%matplotlib widget"
   ]
  },
  {
   "cell_type": "code",
   "execution_count": 7,
   "id": "a96cb657",
   "metadata": {
    "scrolled": false
   },
   "outputs": [
    {
     "name": "stderr",
     "output_type": "stream",
     "text": [
      "G:\\Collaborators\\Sauter Ulrich\\Python\\Parser\\CircuitElements.py:166: RuntimeWarning: overflow encountered in tanh\n",
      "  return values[0] / alpha * np.tanh(alpha)\n"
     ]
    },
    {
     "data": {
      "application/vnd.jupyter.widget-view+json": {
       "model_id": "80a20dc382c84c8fab55be57ecb0b69d",
       "version_major": 2,
       "version_minor": 0
      },
      "text/plain": [
       "interactive(children=(FloatSlider(value=10.0, description='r0', max=200.0, step=1.0), FloatSlider(value=100.0,…"
      ]
     },
     "metadata": {},
     "output_type": "display_data"
    },
    {
     "data": {
      "application/vnd.jupyter.widget-view+json": {
       "model_id": "13b191f5b1034d8c963be527a1d7f0ad",
       "version_major": 2,
       "version_minor": 0
      },
      "text/html": [
       "\n",
       "            <div style=\"display: inline-block;\">\n",
       "                <div class=\"jupyter-widgets widget-label\" style=\"text-align: center;\">\n",
       "                    Figure\n",
       "                </div>\n",
       "                <img src='data:image/png;base64,iVBORw0KGgoAAAANSUhEUgAAAlgAAAGQCAYAAAByNR6YAAAAOXRFWHRTb2Z0d2FyZQBNYXRwbG90bGliIHZlcnNpb24zLjQuMywgaHR0cHM6Ly9tYXRwbG90bGliLm9yZy/MnkTPAAAACXBIWXMAAA9hAAAPYQGoP6dpAAAyUklEQVR4nO3deXRUVb728acyMlZiICRERq80EBlURCiHViQSMWJsBgFR0op6G4MKKI40AadwsRscWgEnoJcyyCQCAiJDUAlTkCuD0KhIQKhERVKMCamc+4dv6rWEaAV2VSXF97PWWYs6e59zfrvoPjzuM5TNsixLAAAAMCYs2AUAAACEGgIWAACAYQQsAAAAwwhYAAAAhhGwAAAADCNgAQAAGEbAAgAAMIyABQAAYBgBCwAAwDACFgAAgGEELAAAAMMIWAAAAIYRsAAAAAwjYAEAABhGwAIAADCMgAUAAGAYAQsAAMAwAhYAAIBhBCwAAADDCFgAAACGEbAAAAAMI2ABAAAYRsACAAAwjIAFAABgGAELAADAMAIWAACAYQQsAAAAwwhYAAAAhhGwAAAADCNgAQAAGEbAAgAAMIyABQAAYBgBCwAAwDACFgAAgGEELAAAAMMIWAAAAIYRsAAAAAwjYAEAABhGwAIAADCMgAUAAGAYAQsAAMAwAhYAAIBhBCwAAADDCFgAAACGEbAAAAAMI2ABAAAYFhHsAlA9lJWV6cCBA6pbt65sNluwywGAs2ZZlo4cOaKkpCSFhTHPAP8gYMEnBw4cUOPGjYNdBgAYs2/fPjVq1CjYZSBEEbCqodGjR2vMmDFe61q2bKmdO3dKkk6ePKlHHnlEM2fOVHFxsVJTU/X6668rISHB0z8/P1+DBw/WqlWrVKdOHWVkZCg7O1sREWf+n0TdunUl/XJCstvtfhoZAPify+VS48aNPec1wB8IWNXUJZdcok8++cTz+dfBaNiwYVq8eLFmz56tmJgYDRkyRD179tTnn38uSXK73UpLS1NiYqLWrl2rgwcPauDAgYqMjNQLL7xwxuOVXxa02+0ELAAhgdsd4E8ErGoqIiJCiYmJp60vKirS22+/renTp+uGG26QJE2ZMkWtW7fWunXr1LlzZ3388cfasWOHPvnkEyUkJOjSSy/Vs88+q8cff1yjR49WVFRUoIcDAEBI4e6+amr37t1KSkrSRRddpAEDBig/P1+SlJeXp1OnTiklJcXTt1WrVmrSpIlyc3MlSbm5uWrbtq3XJcPU1FS5XC5t3749sAMBACAEMYNVDXXq1ElTp05Vy5YtdfDgQY0ZM0bXXnuttm3bJqfTqaioKMXGxnptk5CQIKfTKUlyOp1e4aq8vbzt97hcLq/P0dHRio6OPscRAQAQWghY1VD37t09f27Xrp06deqkpk2b6v3331fNmjX9euzfPkmYlZWl0aNH+/WYAABUNwSsEBAbG6s//elP+vrrr3XjjTeqpKREhw8f9prFKigo8NyzlZiYqA0bNnjto6CgwNP2e377FCGzVwAAnI57sELA0aNH9c0336hhw4bq0KGDIiMjtWLFCk/7rl27lJ+fL4fDIUlyOBzaunWrCgsLPX2WL18uu92u5OTk3z1W+VOE5QsBCwCA0zGDVQ09+uij6tGjh5o2baoDBw4oKytL4eHh6t+/v2JiYjRo0CANHz5ccXFxstvtevDBB+VwONS5c2dJUrdu3ZScnKy77rpL48aNk9Pp1MiRI5WZmUlgAgDAAAJWNbR//371799fP/30k+Lj43XNNddo3bp1io+PlyRNmDBBYWFh6tWrl9eLRsuFh4dr0aJFGjx4sBwOh2rXrq2MjAw988wzwRoSAAAhxWZZlhXsIlD1uVwuxcTEqKioiBeNAqjWOJ8hELgHCwAAwDACFgAAgGEELAAAAMMIWAAAAIYRsAAAAAwjYAEAABhGwAIAADCMgAUAAGAYAQsAAMAwAhYAAIBhBCwAAADDCFgAAACGEbAAAAAMI2ABAAAYRsACAAAwjIAFAABgGAELAADAMAIWAACAYQQsAAAAwwhYAAAAhhGwAAAADCNgAQAAGEbAAgAAMIyABQAAYBgBCwAAwDACFgAAgGEELAAAAMMIWAAAAIYRsAAAAAwjYAEAABhGwAIAADCMgAUAAGAYAQsAAMAwAhYAAIBhBCwAAADDCFgAAACGEbAAAAAMI2ABAAAYRsACAAAwjIAFAABgGAELAADAMAIWAACAYQQsAAAAwwhYAAAAhhGwAAAADCNgAQAAGEbAAgAAMIyAFQLGjh0rm82moUOHetadPHlSmZmZqlevnurUqaNevXqpoKDAa7v8/HylpaWpVq1aatCggUaMGKHS0tIAVw8AQOghYFVzGzdu1OTJk9WuXTuv9cOGDdPChQs1e/Zs5eTk6MCBA+rZs6en3e12Ky0tTSUlJVq7dq2mTZumqVOnatSoUYEeAgAAIYeAVY0dPXpUAwYM0JtvvqkLLrjAs76oqEhvv/22xo8frxtuuEEdOnTQlClTtHbtWq1bt06S9PHHH2vHjh169913demll6p79+569tln9dprr6mkpCRYQwIAICQQsKqxzMxMpaWlKSUlxWt9Xl6eTp065bW+VatWatKkiXJzcyVJubm5atu2rRISEjx9UlNT5XK5tH379sAMAACAEBUR7AJwdmbOnKnNmzdr48aNp7U5nU5FRUUpNjbWa31CQoKcTqenz6/DVXl7eVtFXC6X1+fo6GhFR0efzRAAAAhZzGBVQ/v27dPDDz+s9957TzVq1AjosRs3bqyYmBjPkp2dHdDjAwBQHTCDVQ3l5eWpsLBQl19+uWed2+3WmjVr9K9//UvLli1TSUmJDh8+7DWLVVBQoMTERElSYmKiNmzY4LXf8qcMy/ucyb59+2S32z2fmb0CAOB0zGBVQ127dtXWrVu1ZcsWz3LFFVdowIABnj9HRkZqxYoVnm127dql/Px8ORwOSZLD4dDWrVtVWFjo6bN8+XLZ7XYlJydXeGy73e61ELAAADgdM1jVUN26ddWmTRuvdbVr11a9evU86wcNGqThw4crLi5OdrtdDz74oBwOhzp37ixJ6tatm5KTk3XXXXdp3LhxcjqdGjlypDIzMwlNAACcIwJWiJowYYLCwsLUq1cvFRcXKzU1Va+//rqnPTw8XIsWLdLgwYPlcDhUu3ZtZWRk6Jlnngli1QAAhAabZVlWsItA1edyuRQTE6OioiKve7AAoLrhfIZA4B4sAAAAwwhYAAAAhhGwAAAADCNgAQAAGEbAAgAAMIyABQAAYBgBCwAAwDACFgAAgGEELAAAAMMIWAAAAIYRsAAAAAwjYAEAABhGwAIAADCMgAUAAGAYAQsAAMAwAhYAAIBhBCwAAADDCFgAAACGEbAAAAAMI2ABAAAYRsACAAAwjIAFAABgGAELAADAMAIWAACAYQQsAAAAwwhYAAAAhhGwAAAADCNgAQAAGEbAAgAAMIyABQAAYBgBCwAAwDACFgAAgGEELAAAAMMIWAAAAIYRsAAAAAwjYAEAABhGwAIAADCMgAUAAGAYAQsAAMAwAhYAAIBhBCwAAADDCFgAAACGEbAAAAAMI2ABAAAYRsACAAAwjIAFAABgGAELAADAMAIWAACAYQSsamjixIlq166d7Ha77Ha7HA6HlixZ4mk/efKkMjMzVa9ePdWpU0e9evVSQUGB1z7y8/OVlpamWrVqqUGDBhoxYoRKS0sDPRQAAEISAasaatSokcaOHau8vDxt2rRJN9xwg9LT07V9+3ZJ0rBhw7Rw4ULNnj1bOTk5OnDggHr27OnZ3u12Ky0tTSUlJVq7dq2mTZumqVOnatSoUcEaEgAAIcVmWZYV7CJw7uLi4vTiiy+qd+/eio+P1/Tp09W7d29J0s6dO9W6dWvl5uaqc+fOWrJkiW655RYdOHBACQkJkqRJkybp8ccf1w8//KCoqKjT9u9yuRQTE6OioiLZ7faAjg0ATOJ8hkBgBquac7vdmjlzpo4dOyaHw6G8vDydOnVKKSkpnj6tWrVSkyZNlJubK0nKzc1V27ZtPeFKklJTU+VyuTyzYBVxuVxeS3FxsX8GBgBANUbAqqa2bt2qOnXqKDo6Wn/72980f/58JScny+l0KioqSrGxsV79ExIS5HQ6JUlOp9MrXJW3l7f9nsaNGysmJsazZGdnmxsUAAAhIiLYBeDstGzZUlu2bFFRUZHmzJmjjIwM5eTk+P24+/bt85pSj46O9vsxAQCobghY1VRUVJQuvvhiSVKHDh20ceNGvfzyy+rbt69KSkp0+PBhr1msgoICJSYmSpISExO1YcMGr/2VP2VY3qci5U8uAgCAinGJMESUlZWpuLhYHTp0UGRkpFasWOFp27Vrl/Lz8+VwOCRJDodDW7duVWFhoafP8uXLZbfblZycHPDaAQAINcxgBVlZWZn279+vJk2a+LzNk08+qe7du6tJkyY6cuSIpk+frtWrV2vZsmWKiYnRoEGDNHz4cMXFxclut+vBBx+Uw+FQ586dJUndunVTcnKy7rrrLo0bN05Op1MjR45UZmYml/wAADCAgBUgU6ZM0axZs7R3717Z7XZde+21GjZsmCIiItS8eXO53W6f91VYWKiBAwfq4MGDiomJUbt27bRs2TLdeOONkqQJEyYoLCxMvXr1UnFxsVJTU/X66697tg8PD9eiRYs0ePBgORwO1a5dWxkZGXrmmWeMjxsAgPMR78HyM7fbrZ49e2rp0qVKS0tTixYt9PPPP2vZsmX6+eef9eqrr+qee+6pVMAKBt4bAyBUcD5DIDCD5WcTJkzQxo0b9eWXX6ply5ae9WVlZRo/frzuv//+IFYHAAD8gYDlZ1OnTtW4ceO8wpUkhYWF6dFHH5VlWXr88ceDVB0AAPAHniL0s2+++UadOnWqsH3EiBEqKysLYEUAAMDfCFh+Vrt2bf3www8Vtm/ZskX33HNPACsCAAD+RsDys+uuu06TJk06Y5vT6VS/fv00bdq0AFcFAAD8iYDlZ1lZWZo7d64yMjK0bds2nTx5UgcOHNDkyZPVsWNH1a9fP9glAgAAwwhYftauXTstWbJEn3/+udq3b6/atWurcePGeuihh9S/f3/NmDFDvCkDAIDQwlOEAfDnP/9Z//nPf7R+/Xp99913stvtcjgciouL07Fjx5SVlRXsEgEAgEG8aNTPRo0apfT0dHXo0CHYpZwTXswHIFRwPkMgcInQz/bv36/u3burUaNGGjx4sJYsWaKSkpJglwUAAPyIgOVn77zzjpxOp2bMmKG6detq6NChql+/vnr16qV///vfOnToULBLBAAAhnGJMAi++uorLVy4UAsWLFBeXp6uvPJK3Xrrrerfv78uvPDCYJd3RkypAwgVnM8QCASsICssLNTChQv14Ycf6tprr9Wjjz4a7JLOiBMSgFDB+QyBQMAKoFOnTsnpdOr48eOKj49XXFxcsEvyGSckAKGC8xkCgXuw/OzIkSOaOHGirrvuOtntdjVr1kytW7dWfHy8mjZtqvvuu08bN24MdpkAAMAgApYfjR8/Xs2aNdOUKVOUkpKiDz74QFu2bNF//vMf5ebmKisrS6WlperWrZtuuukm7d69O9glAwAAA7hE6Ef9+/fXyJEjdckll/xuv+LiYk2ZMkVRUVFV9oefmVIHECo4nyEQCFjwCSckAKGC8xkCgUuEAAAAhhGw/Kxr166aN29ehe0//vijLrroogBWBAAA/I2A5WerVq3S7bffXuEPOrvdbu3duzfAVQEAAH8iYAXAxIkT9dJLL+kvf/mLjh07FuxyAACAnxGwAiA9PV3r1q3T9u3b1blzZ3377bfBLgkAAPgRAStAWrdurY0bN6px48bq2LGjPvnkk2CXBAAA/ISAFUAxMTFavHix7rvvPt18882aMGFCsEsCAAB+EBHsAkKdzWY77fPYsWN16aWX6t5779XKlSuDVBkAAPAXZrD8rKL3uPbr10+fffaZtm7dGuCKAACAvzGD5WerVq1SXFzcGdsuvfRS5eXlafHixQGuCgAA+BM/leNH+fn5atKkic/9v//+e1144YV+rOjs8dMSAEIF5zMEApcI/ahjx4767//+b23cuLHCPkVFRXrzzTfVpk0bzZ07N4DVAQAAf+ESoR/t2LFDzz//vG688UbVqFFDHTp0UFJSkmrUqKGff/5ZO3bs0Pbt23X55Zdr3Lhxuvnmm4NdMgAAMIBLhAFw4sQJLV68WJ999pn27t2rEydOqH79+rrsssuUmpqqNm3aBLvEP8SUOoBQwfkMgUDAgk84IQEIFZzPEAjcgwUAAGAY92AF0MmTJ/Xll1+qsLBQZWVlXm233nprkKoCAACmEbACZOnSpRo4cKB+/PHH09psNpvcbncQqgIAAP7AJcIAefDBB9WnTx8dPHhQZWVlXgvhCgCA0ELACpCCggINHz5cCQkJwS4FAAD4GQErQHr37q3Vq1cHuwwAABAAvKYhQI4fP64+ffooPj5ebdu2VWRkpFf7Qw89FKTKfMNjzQBCBeczBAI3uQfIjBkz9PHHH6tGjRpavXq1bDabp81ms1X5gAUAAHxHwAqQp59+WmPGjNETTzyhsDCuzAIAEMr4lz5ASkpK1LdvX8IVAADnAf61D5CMjAzNmjUr2GUAAIAA4BJhgLjdbo0bN07Lli1Tu3btTrvJffz48UGqDAAAmEbACpCtW7fqsssukyRt27YtyNUAAAB/ImAFyKpVq4JdAgAACBAClp/17NnzD/vYbDbNnTvX531mZ2dr3rx52rlzp2rWrKmrrrpK//M//6OWLVt6+pw8eVKPPPKIZs6cqeLiYqWmpur111/3epN8fn6+Bg8erFWrVqlOnTrKyMhQdna2IiL4nwUAAOeCf0n9LCYmxvg+c3JylJmZqY4dO6q0tFRPPfWUunXrph07dqh27dqSpGHDhmnx4sWaPXu2YmJiNGTIEPXs2VOff/65pF/uCUtLS1NiYqLWrl2rgwcPauDAgYqMjNQLL7xgvGYAAM4nvMk9BPzwww9q0KCBcnJy9Oc//1lFRUWKj4/X9OnT1bt3b0nSzp071bp1a+Xm5qpz585asmSJbrnlFh04cMAzqzVp0iQ9/vjj+uGHHxQVFeV1DN58DCBUcD5DIPCahiD4/PPPVVxcbGx/RUVFkqS4uDhJUl5enk6dOqWUlBRPn1atWqlJkybKzc2VJOXm5qpt27ZelwxTU1Plcrm0ffv2Co/lcrm8FpPjAAAgVBCwgqB79+76/vvvjeyrrKxMQ4cO1dVXX602bdpIkpxOp6KiohQbG+vVNyEhQU6n09Pn1+GqvL28rSKNGzdWTEyMZ8nOzjYyDgAAQgn3YAWByauymZmZ2rZtmz777DNj+/w9+/bt85pSj46ODshxAQCoTpjBqsaGDBmiRYsWadWqVWrUqJFnfWJiokpKSnT48GGv/gUFBUpMTPT0KSgoOK29vK0idrvdayFgAQBwOgJWEEyePPm0y3OVYVmWhgwZovnz52vlypVq3ry5V3uHDh0UGRmpFStWeNbt2rVL+fn5cjgckiSHw6GtW7eqsLDQ02f58uWy2+1KTk4+69oAAABPEVZLDzzwgKZPn64FCxZ4vfsqJiZGNWvWlCQNHjxYH330kaZOnSq73a4HH3xQkrR27VpJv7ym4dJLL1VSUpLGjRsnp9Opu+66S/fee+8ZX9PAUzcAQgXnMwQCAasastlsZ1w/ZcoU/fWvf5X0/180OmPGDK8Xjf768t/evXs1ePBgrV69WrVr11ZGRobGjh17xheNckICECo4nyEQCFjwCSckAKGC8xkCgXuwAAAADCNgAQAAGEbAAgAAMIyABQAAYBgBCwAAwDACFgAAgGEELAAAAMMIWAAAAIYRsAAAAAwjYAEAABhGwAIAADCMgAUAAGAYAQsAAMAwAhYAAIBhBCwAAADDCFgAAACGEbAAAAAMI2ABAAAYRsACAAAwjIAFAABgGAELAADAMAIWAACAYQQsAAAAwwhYAAAAhhGwAAAADCNgAQAAGEbAAgAAMIyABQAAYBgBCwAAwDACFgAAgGEELAAAAMMIWAAAAIYRsAAAAAwjYAEAABhGwAIAADCMgAUAAGAYAQsAAMAwAhYAAIBhBCwAAADDCFgAAACGEbAAAAAMI2ABAAAYRsACAAAwjIAFAABgGAELAADAMAIWAACAYQQsAAAAwwhY1dCaNWvUo0cPJSUlyWaz6YMPPvBqtyxLo0aNUsOGDVWzZk2lpKRo9+7dXn0OHTqkAQMGyG63KzY2VoMGDdLRo0cDOAoAAEIXAasaOnbsmNq3b6/XXnvtjO3jxo3TK6+8okmTJmn9+vWqXbu2UlNTdfLkSU+fAQMGaPv27Vq+fLkWLVqkNWvW6P777w/UEAAACGk2y7KsYBeBs2ez2TR//nzddtttkn6ZvUpKStIjjzyiRx99VJJUVFSkhIQETZ06Vf369dNXX32l5ORkbdy4UVdccYUkaenSpbr55pu1f/9+JSUlnXYcl8ulmJgYFRUVyW63B2x8AGAa5zMEAjNYIWbPnj1yOp1KSUnxrIuJiVGnTp2Um5srScrNzVVsbKwnXElSSkqKwsLCtH79+t/dv8vl8lqKi4v9MxAAAKoxAlaIcTqdkqSEhASv9QkJCZ42p9OpBg0aeLVHREQoLi7O06cijRs3VkxMjGfJzs42WD0AAKEhItgFoHrZt2+f15R6dHR0EKsBAKBqYgYrxCQmJkqSCgoKvNYXFBR42hITE1VYWOjVXlpaqkOHDnn6VMRut3stBCwAAE5HwAoxzZs3V2JiolasWOFZ53K5tH79ejkcDkmSw+HQ4cOHlZeX5+mzcuVKlZWVqVOnTgGvGQCAUMMlwmro6NGj+vrrrz2f9+zZoy1btiguLk5NmjTR0KFD9dxzz6lFixZq3ry5/v73vyspKcnzpGHr1q1100036b777tOkSZN06tQpDRkyRP369TvjE4QAAKByCFjV0KZNm9SlSxfP5+HDh0uSMjIyNHXqVD322GM6duyY7r//fh0+fFjXXHONli5dqho1ani2ee+99zRkyBB17dpVYWFh6tWrl1555ZWAjwUAgFDEe7DgE94bAyBUcD5DIHAPFgAAgGEELAAAAMMIWAAAAIYRsAAAAAwjYAEAABhGwAIAADCMgAUAAGAYAQsAAMAwAhYAAIBhBCwAAADDCFgAAACGEbAAAAAMI2ABAAAYRsACAAAwjIAFAABgGAELAADAMAIWAACAYQQsAAAAwwhYAAAAhhGwAAAADCNgAQAAGEbAAgAAMCwi2AUAJrjdbn366ac6ePCgGjZsqKuuukpr16494+cGDRpIkgoLC9WwYUNde+21Cg8PD/IIzPqj7yMUxwwAVQkBC9XSrwPE7t279cYbb+j777/3tIeHh8vtdlf4+dcaNWqk++67Ty1atKi24aOy30cojBkAqjKbZVlWsItA1edyuRQTE6OioiLZ7fag1FAeIhYsWKB3331XP/74o1+OEx8frwEDBig9Pb3KBo8/ClSV1ahRI7388svq2bOnwSqBqqkqnM8Q+ghY8EmwT0jz5s3Tww8/rP379wf0uFUpeAQiYI4ZM0ZPP/10lQyVgCnBPp/h/MBN7qjS3G63nnnmGfXq1Svg4UqS9u/fr169eumZZ56p8BJjIMybN0/NmjVTly5d9NJLL/lt9i4rK0tNmzbVvHnz/LJ/ADhfELBQZZWHiqysrGCXErTgEYyA+f3336tXr14aNmyYVq9eHdRgCQDVFQELVU6wZ60qUh48AjGbVf4dNGjQIGgB86WXXlKXLl3UrFkzZrQAoJIIWKhSqtKsVUX8PZs1b948JSQkKCsrS4cOHfLLMSqj/DLpnDlzgl0KAFQbBCxUGbNnz65ys1YVKZ/NMh06yr+Dn376yeh+TejXr59mz54d7DIAoFogYKFKmDVrlvr162dsf799Cs5fT8WZDB1z5sxR//79jezrt0yM3+126/bbb2cmCwB8wGsa4BN/Ptb82GOP6cUXXzynffz2xZm+vsndxDukpF9mnnr37n1O299+++3nVMOv/d73ca5jDg8P14wZM9SnTx9j9QKBxGsaEAgELPjEXyekc5m5ql+/vu68885zfiGoifdLhYWFafr06erbt2+lt501a5buuOMOlZWVVXrbcpV9M7vb7dbzzz9/Tve6nWuoBIKFgIWAsAAfFBUVWZKsoqIiY/ucPXu2FRYWZkmq9DJmzBirtLTUWC3lSktLrTFjxpxVTZKsESNGVOp4I0aMOOtj1a9f3xo6dKi1atWqs/4u5s6dazVq1Oisjh8eHm69//77Z3VcIJj8cT4DfouABZ+YPiHNnTv3rP5Rb9SokTV37lwjNfxRfWcbPHwNHbNnzz7rcGUyYJaWllqrVq2yhg4dela1BOLvAzCJgIVA4BIhfGJySt3tdqtBgwaVfgVBoH/G5Wwvo9ntdh06dOgPL9FdcMEFOnLkSKX2Xa9ePb3xxht+++meOXPmqF+/fpV6z1e9evVUUFDAz+ug2uASIQKBpwgRcAMGDKhUuAoLC9P777+vUaNGBfQf8fDwcI0aNUqzZ8+u1HFdLpcGDBjwu3369etXqXAVFhamrKwsFRQU+PV3EXv37q0ZM2ZUapuffvpJzz//vJ8qAoDqiRks+MTUf/HNmTOn0k+fzZw586xuHjfpbJ7ye//998841ltvvVULFy6s9PEDeUN5ZWey6tSpo8OHDzOLhWqBGSwEAjNYCBi3261BgwZVapsRI0YEPVxJUp8+fTR79myFhfn+f5l77733tIDSo0ePSoWr8tm7QD+tV9mZrKNHj2r16tX+KwgAqhkCFgLm+eefl8vl8qmvzWbTzJkzNW7cOD9X5bvevXtr+vTpPvd3uVxel8569OihRYsWVeqY06dPD9r7pspDpc1m86n/yJEj/VwRAFQfXCKET851St3tdqtOnTo6efKkT/1Hjx5dZX+PsF+/fpo1a5ZPfWvUqKGioiJdd911WrduXaWO07dvX82cOfNsSjSqd+/emjt3rk99K7osClQlXCJEIBCw4JNzPSGNHj1aY8aM8amvL0/hBVNlnwAMCwur9EtEq9J3sGLFCqWkpPjUtyrVDVSEgIVA4BIh/M7tduu5557zuf9bb71Vpf+BDg8P1zvvvONz/7N5Q3tV+g6uv/561alTx6e+LpeLe7EAQAQsBMCYMWN8fhqtc+fO1eISU+/eveVwOPyy72HDhlWp7yA8PFwjRozwuf/KlSv9WA0AVA8ELPiV2+1Wdna2z/0rM9MVbM8++6zxffbo0UPjx483vt9z9fTTTysqKsqnvnv37vVzNQBQ9RGw4FcrVqxQaWmpT30jIyN1/fXX+7cgg66//npFRkYa298tt9yiDz/80Nj+TAoPD1fHjh196rtp0yY/VwMAVR8B6zz32muvqVmzZqpRo4Y6deqkDRs2GN3/22+/7XPfO+64o8rcd+SL8PBw3XHHHUb2dcstt1T65aOBVrNmTZ/67dq1SyUlJX6uBgCqNgLWeWzWrFkaPny4srKytHnzZrVv316pqakqLCw0dozPP//c575vvPGGseMGiomaq0O4kqTatWv73Pef//ynHysBgKqPgHUeGz9+vO677z7dfffdSk5O1qRJk1SrVq1KPSH3RwoKCnzu6+s9PlVJVFRUpd7u/ltpaWnVIlxJ0p///Gef+7700kv+KwQAqgEC1nmqpKREeXl5Xu83CgsLU0pKinJzcyvczuVyeS3FxcW/exxfX7NWnS4N/tbZvIZBki677LJKv9k9mIYMGeJzX5OzoABQHRGwzlM//vij3G63EhISvNYnJCTI6XRWuF3jxo0VExPjWf7oCUFfLytV5vJTKGjatKk2b94c7DIqpTrOMAJAsBCwUCn79u1TUVGRZ3nyySd/t//tt9/u03597VcVtWzZslL9a9Sooe+++84/xfiZry8c9bUfAIQqAtZ5qn79+goPDz/tHqmCggIlJiZWuJ3dbvdaoqOjf/c4r7zyik/1+NqvKlq7dm2l+p84ccJPlfjfzp07jfYDgFBFwDpPRUVFqUOHDlqxYoVnXVlZmVasWGH0DeU1a9ZUenr67/ZJT0/3+RUAVVFcXNxpl1orUt1/+vPCCy/8w0uFUVFRuvDCCwNUEQBUTQSs89jw4cP15ptvatq0afrqq680ePBgHTt2THfffbfR43zwwQcVhqz09HR98MEHRo8XDE6n8w9DVnUPV+WKi4srDFlRUVF/+OADAJwPCFjnsb59++of//iHRo0apUsvvVRbtmzR0qVLfZ6NqYwPPvhAx48fV2Zmprp166bMzEwdP348JMJVOafTqZ9++kl2u91r/cCBA0MmXJUrLi7W/v37dcEFFygiIkIXXHCB9u/fT7gCgP/HZoXamR9+4XK5FBMTo6KiotMCBABUJ5zPEAjMYMEviouLNXr06JCf0WCcoYVxhpbzZZyompjBgk8q+19858t/ITLO0MI4Q0tF4zxfxo/gYgYLAADAMAIWAACAYRHBLgDVQ/mVZJfL5VP/8n6+9q+uGGdoYZyhpaJxln/mDhn4E/dgwSf79+9X48aNg10GABizb98+NWrUKNhlIEQRsOCTsrIyHThwQHXr1pXNZgt2OQBw1izL0pEjR5SUlKSwMO6UgX8QsAAAAAwjugMAABhGwAIAADCMgAUAAGAYAQvGvfbaa2rWrJlq1KihTp06acOGDcEuqVLWrFmjHj16KCkpSTab7bQfpLYsS6NGjVLDhg1Vs2ZNpaSkaPfu3V59Dh06pAEDBshutys2NlaDBg3S0aNHAziKP5adna2OHTuqbt26atCggW677Tbt2rXLq8/JkyeVmZmpevXqqU6dOurVq5cKCgq8+uTn5ystLU21atVSgwYNNGLECJWWlgZyKL9r4sSJateunex2u+x2uxwOh5YsWeJpD4UxnsnYsWNls9k0dOhQz7pQGOvo0aNls9m8llatWnnaQ2GMCA0ELBg1a9YsDR8+XFlZWdq8ebPat2+v1NRUFRYWBrs0nx07dkzt27fXa6+9dsb2cePG6ZVXXtGkSZO0fv161a5dW6mpqTp58qSnz4ABA7R9+3YtX75cixYt0po1a3T//fcHagg+ycnJUWZmptatW6fly5fr1KlT6tatm44dO+bpM2zYMC1cuFCzZ89WTk6ODhw4oJ49e3ra3W630tLSVFJSorVr12ratGmaOnWqRo0aFYwhnVGjRo00duxY5eXladOmTbrhhhuUnp6u7du3SwqNMf7Wxo0bNXnyZLVr185rfaiM9ZJLLtHBgwc9y2effeZpC5UxIgRYgEFXXnmllZmZ6fnsdrutpKQkKzs7O4hVnT1J1vz58z2fy8rKrMTEROvFF1/0rDt8+LAVHR1tzZgxw7Isy9qxY4clydq4caOnz5IlSyybzWZ9//33Aau9sgoLCy1JVk5OjmVZv4wrMjLSmj17tqfPV199ZUmycnNzLcuyrI8++sgKCwuznE6np8/EiRMtu91uFRcXB3YAlXDBBRdYb731VkiO8ciRI1aLFi2s5cuXW9ddd5318MMPW5YVOn+fWVlZVvv27c/YFipjRGhgBgvGlJSUKC8vTykpKZ51YWFhSklJUW5ubhArM2fPnj1yOp1eY4yJiVGnTp08Y8zNzVVsbKyuuOIKT5+UlBSFhYVp/fr1Aa/ZV0VFRZKkuLg4SVJeXp5OnTrlNdZWrVqpSZMmXmNt27atEhISPH1SU1Plcrk8M0RVidvt1syZM3Xs2DE5HI6QHGNmZqbS0tK8xiSF1t/n7t27lZSUpIsuukgDBgxQfn6+pNAaI6o/fioHxvz4449yu91eJy5JSkhI0M6dO4NUlVlOp1OSzjjG8jan06kGDRp4tUdERCguLs7Tp6opKyvT0KFDdfXVV6tNmzaSfhlHVFSUYmNjvfr+dqxn+i7K26qKrVu3yuFw6OTJk6pTp47mz5+v5ORkbdmyJWTGKEkzZ87U5s2btXHjxtPaQuXvs1OnTpo6dapatmypgwcPasyYMbr22mu1bdu2kBkjQgMBC4AyMzO1bds2r3tZQknLli21ZcsWFRUVac6cOcrIyFBOTk6wyzJq3759evjhh7V8+XLVqFEj2OX4Tffu3T1/bteunTp16qSmTZvq/fffV82aNYNYGeCNS4Qwpn79+goPDz/tiZ2CggIlJiYGqSqzysfxe2NMTEw87ab+0tJSHTp0qEp+D0OGDNGiRYu0atUqr99lS0xMVElJiQ4fPuzV/7djPdN3Ud5WVURFReniiy9Whw4dlJ2drfbt2+vll18OqTHm5eWpsLBQl19+uSIiIhQREaGcnBy98sorioiIUEJCQsiM9ddiY2P1pz/9SV9//XVI/X2i+iNgwZioqCh16NBBK1as8KwrKyvTihUr5HA4gliZOc2bN1diYqLXGF0ul9avX+8Zo8Ph0OHDh5WXl+fps3LlSpWVlalTp04Br7kilmVpyJAhmj9/vlauXKnmzZt7tXfo0EGRkZFeY921a5fy8/O9xrp161avQLl8+XLZ7XYlJycHZiBnoaysTMXFxSE1xq5du2rr1q3asmWLZ7niiis0YMAAz59DZay/dvToUX3zzTdq2LBhSP19IgQE+y57hJaZM2da0dHR1tSpU60dO3ZY999/vxUbG+v1xE5Vd+TIEeuLL76wvvjiC0uSNX78eOuLL76w9u7da1mWZY0dO9aKjY21FixYYH355ZdWenq61bx5c+vEiROefdx0003WZZddZq1fv9767LPPrBYtWlj9+/cP1pDOaPDgwVZMTIy1evVq6+DBg57l+PHjnj5/+9vfrCZNmlgrV660Nm3aZDkcDsvhcHjaS0tLrTZt2ljdunWztmzZYi1dutSKj4+3nnzyyWAM6YyeeOIJKycnx9qzZ4/15ZdfWk888YRls9msjz/+2LKs0BhjRX79FKFlhcZYH3nkEWv16tXWnj17rM8//9xKSUmx6tevbxUWFlqWFRpjRGggYMG4V1991WrSpIkVFRVlXXnllda6deuCXVKlrFq1ypJ02pKRkWFZ1i+vavj73/9uJSQkWNHR0VbXrl2tXbt2ee3jp59+svr372/VqVPHstvt1t13320dOXIkCKOp2JnGKMmaMmWKp8+JEyesBx54wLrgggusWrVqWX/5y1+sgwcPeu3nu+++s7p3727VrFnTql+/vvXII49Yp06dCvBoKnbPPfdYTZs2taKioqz4+Hira9eunnBlWaExxor8NmCFwlj79u1rNWzY0IqKirIuvPBCq2/fvtbXX3/taQ+FMSI02CzLsoIzdwYAABCauAcLAADAMAIWAACAYQQsAAAAwwhYAAAAhhGwAAAADCNgAQAAGEbAAgAAMIyABQAAYBgBCwAAwDACFoCA++mnn9SgQQN99913ldquX79++uc//+mfogDAIAIWAJ/89a9/lc1mk81mU2RkpJo3b67HHntMJ0+erPS+nn/+eaWnp6tZs2ZavXq1Z79nWrp06eLZbuTIkXr++edVVFR02j7vvvtujRw50vP5yy+/VM+ePVWvXj3VqFFDl1xyiV588UWVlpae3RcAAJVAwALgs5tuukkHDx7Ut99+qwkTJmjy5MnKysqq1D6OHz+ut99+W4MGDZIkXXXVVTp48OBpy+TJk2Wz2fTAAw94tm3Tpo3+67/+S++++67XPt1utxYtWqRbb71VkrRmzRp17txZNWvW1IIFC/S///u/evzxxzV+/Hj17NlTZWVl5/hNAMDvI2AB8Fl0dLQSExPVuHFj3XbbbUpJSdHy5cs97WVlZcrOzlbz5s1Vs2ZNtW/fXnPmzPHax0cffaTo6Gh17txZkhQVFaXExESv5eeff9ajjz6qp556Sn369PHavkePHpo5c6bXurVr1yoyMlIdO3aU2+3W3XffrZ49e+q9997TNddco5YtW2rgwIFatWqVli5dqilTpvjpGwKAXxCwAJyVbdu2ae3atYqKivKsy87O1r///W9NmjRJ27dv17Bhw3TnnXcqJyfH0+fTTz9Vhw4dKtzv4cOHlZ6eruuvv17PPvvsae1XXnmlNmzYoOLiYs+6Dz/8UD169JDNZtOGDRv07bffasSIEadt26pVK6WlpWnWrFlnO2wA8ElEsAsAUH0sWrRIderUUWlpqYqLixUWFqZ//etfkqTi4mK98MIL+uSTT+RwOCRJF110kT777DNNnjxZ1113nSRp7969SkpKOuP+y8rKdMcddygiIkLvvfeebDbbaX2SkpJUUlIip9Oppk2bSpIWLFigCRMmSJL27NkjSWrRosUZj9GiRQstWLDgHL4FAPhjBCwAPuvSpYsmTpyoY8eOacKECYqIiFCvXr0kSV9//bWOHz+uG2+80WubkpISXXbZZZ7PJ06cUI0aNc64/6eeekq5ubnasGGD6tate8Y+NWvWlPTLvVyS9NVXX+nAgQPq2rWrJMlut0uSDh06pFq1ap22/c8//+zpAwD+QsAC4LPatWvr4osvliS98847at++veeG9aNHj0qSFi9erAsvvNBru+joaM+f69evr59//vm0fc+cOVP/+Mc/tHjx4gpnn6RfgpMkxcfHS/rl8uCNN97oCW0Oh0ORkZFauHChBg8e7LWt2+3WsmXLPKEQAPyFe7AAnJWwsDA99dRTGjlypE6cOKHk5GRFR0crPz9fF198sdfSuHFjz3aXXXaZduzY4bWvLVu2aNCgQRo7dqxSU1N/97jbtm1To0aNVL9+fUm/XB5MT0/3tNerV08PPfSQnnvuOR04cMBr2wkTJujQoUMaNmzYuQ4fAH4XAQvAWevTp4/Cw8P12muvqW7dunr00Uc1bNgwTZs2Td988402b96sV199VdOmTfNsk5qaqu3bt3tmsX788Ufddtttuv7663XnnXfK6XR6LT/88IPXMT/99FN169ZNklRYWKhNmzbplltu8bQfPXpUDz30kJo1a6YuXbpo8+bNkqQXX3xRTz31lF599VVFRUXJ7Xb7++sBcD6zAMAHGRkZVnp6+mnrs7Ozrfj4eOvo0aNWWVmZ9dJLL1ktW7a0IiMjrfj4eCs1NdXKycnx2ubKK6+0Jk2aZFmWZU2dOtWSVOHStGlTz3YnTpywYmJirNzcXMuyLOutt96yrr76aq99Z2VleW2fkZFhWZZ12n737Nlj7LsBgN+yWZZlBSPYATh/LV68WCNGjNC2bdsUFub7RPrEiRM1f/58ffzxx5KkW2+9Vddcc40ee+wxf5UKAGeFm9wBBFxaWpp2796t77//3uv+rD8SGRmpV1991fP5mmuuUf/+/f1RIgCcE2awAAAADOMmdwAAAMMIWAAAAIYRsAAAAAwjYAEAABj2f7dCwRhunwRoAAAAAElFTkSuQmCC' width=600.0/>\n",
       "            </div>\n",
       "        "
      ],
      "text/plain": [
       "Canvas(toolbar=Toolbar(toolitems=[('Home', 'Reset original view', 'home', 'home'), ('Back', 'Back to previous …"
      ]
     },
     "metadata": {},
     "output_type": "display_data"
    }
   ],
   "source": [
    "# set up plot\n",
    "plt.close()\n",
    "fig, ax = plt.subplots(figsize=(6, 4))\n",
    "ax.grid(True)\n",
    "cb = None\n",
    "fig.clear()\n",
    "ax = plt.gca()\n",
    "circuit = 'R0-p(R1,CPE1)-Ws1'\n",
    "circuit\n",
    "freq = np.logspace(-3, 12, 200)\n",
    "param = {\n",
    "        \"R0\": 10,\n",
    "        \"R1\": 100,\n",
    "        \"R2\": 200,\n",
    "        \"C1\": 1e-8,\n",
    "        \"CPE1_0\": 1e-9,\n",
    "        \"CPE1_1\": 0.809,\n",
    "        \"CPE2_0\": 1e-9,\n",
    "        \"CPE2_1\": 0.5,\n",
    "        \"W1\": 300,\n",
    "        \"Ws1_R\": 100,\n",
    "        \"Ws1_T\": 10 ** 1,\n",
    "        \"Wo1_R\": 100,\n",
    "        \"Wo1_T\": 10 ** 1,\n",
    "        \"Wss1_R\": 100,\n",
    "        \"Wss1_T\": 10 ** 1\n",
    "        }\n",
    "norm = matplotlib.colors.Normalize(vmin=0, vmax=2, clip=True)\n",
    "mapper = cm.ScalarMappable(norm=norm, cmap=cm.bwr)\n",
    "res = cpc.calc_circuit(param, circuit, freq)\n",
    "scat = ax.scatter(\n",
    "            res.real,\n",
    "            -res.imag,\n",
    "            cmap='bwr',\n",
    "            norm=norm\n",
    "            )\n",
    "cb = fig.colorbar(mapper, label=r\"$\\omega\\cdot\\tau$ in multiples of $2\\pi$\")\n",
    "ax.set_aspect('equal')\n",
    "ax.set_xlim(-20, 510)\n",
    "ax.set_ylim(ax.get_xlim())\n",
    "x_label = r\"Re(Z)/$\\Omega$\"\n",
    "y_label = r\"-Im(Z)/$\\Omega$\"\n",
    "ax.set_xlabel(x_label)\n",
    "ax.set_ylabel(y_label)\n",
    "ax.tick_params(direction='in')\n",
    "ax.locator_params(prune='upper')\n",
    " \n",
    "@widgets.interact(r0=(0, 200.0, 1.0), r1=(0.1, 600.0, 1.0), ws_r=(0.0, 400.0, 1.0), ws_t=(0.0, 5.0, 0.1),color=False, continuous_update=False)\n",
    "def update(r0 = 10.0,r1 = 100, ws_r=100.0, ws_t=1.0, color=False):\n",
    "    \"\"\"Remove old lines from plot and plot new one\"\"\"\n",
    "    param = {\n",
    "            \"R0\": r0,\n",
    "            \"R1\": r1,\n",
    "            \"R2\": 200,\n",
    "            \"C1\": 1e-8,\n",
    "            \"CPE1_0\": 1e-12,\n",
    "            \"CPE1_1\": 0.9,\n",
    "            \"CPE2_0\": 1e-9,\n",
    "            \"CPE2_1\": 0.899,\n",
    "            \"W1\": 3 * ws_r,\n",
    "            \"Ws1_R\": ws_r,\n",
    "            \"Ws1_T\": 10 ** ws_t,\n",
    "            \"Wo1_R\": ws_r,\n",
    "            \"Wo1_T\": 10 ** ws_t,\n",
    "            \"Wss1_R\": ws_r,\n",
    "            \"Wss1_T\": 10 ** ws_t\n",
    "            }\n",
    "    res = cpc.calc_circuit(param, circuit, freq)\n",
    "    scat.set_offsets(np.c_[res.real,-res.imag])\n",
    "    if color:\n",
    "        scat.set_facecolor(mapper.to_rgba(freq * param[\"Ws1_T\"] / 2 / np.pi))\n",
    "        fig.axes[1].set_visible(True)\n",
    "    else:\n",
    "        scat.set_facecolor('black')\n",
    "        fig.axes[1].set_visible(False)"
   ]
  }
 ],
 "metadata": {
  "kernelspec": {
   "display_name": "Python 3 (ipykernel)",
   "language": "python",
   "name": "python3"
  },
  "language_info": {
   "codemirror_mode": {
    "name": "ipython",
    "version": 3
   },
   "file_extension": ".py",
   "mimetype": "text/x-python",
   "name": "python",
   "nbconvert_exporter": "python",
   "pygments_lexer": "ipython3",
   "version": "3.9.7"
  }
 },
 "nbformat": 4,
 "nbformat_minor": 5
}
