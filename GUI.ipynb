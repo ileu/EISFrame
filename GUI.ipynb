{
 "cells": [
  {
   "cell_type": "code",
   "execution_count": 1,
   "id": "300d3b6a",
   "metadata": {},
   "outputs": [],
   "source": [
    "import Base\n",
    "import Parser.CircuitParserCalc as cpc\n",
    "import ipywidgets as widgets\n",
    "import matplotlib.pyplot as plt\n",
    "import numpy as np\n",
    "%matplotlib widget"
   ]
  },
  {
   "cell_type": "code",
   "execution_count": 5,
   "id": "a96cb657",
   "metadata": {
    "scrolled": true
   },
   "outputs": [
    {
     "data": {
      "application/vnd.jupyter.widget-view+json": {
       "model_id": "7bb42b66182748f9ae7c8aa06ba05b5d",
       "version_major": 2,
       "version_minor": 0
      },
      "text/plain": [
       "interactive(children=(FloatSlider(value=10.0, description='r0', max=200.0, min=0.1, step=1.0), FloatSlider(val…"
      ]
     },
     "metadata": {},
     "output_type": "display_data"
    },
    {
     "data": {
      "application/vnd.jupyter.widget-view+json": {
       "model_id": "dcbaa37564a34c5caf2362c7d477c181",
       "version_major": 2,
       "version_minor": 0
      },
      "text/html": [
       "\n",
       "            <div style=\"display: inline-block;\">\n",
       "                <div class=\"jupyter-widgets widget-label\" style=\"text-align: center;\">\n",
       "                    Figure\n",
       "                </div>\n",
       "                <img src='data:image/png;base64,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' width=600.0/>\n",
       "            </div>\n",
       "        "
      ],
      "text/plain": [
       "Canvas(toolbar=Toolbar(toolitems=[('Home', 'Reset original view', 'home', 'home'), ('Back', 'Back to previous …"
      ]
     },
     "metadata": {},
     "output_type": "display_data"
    }
   ],
   "source": [
    "# set up plot\n",
    "fig, ax = plt.subplots(figsize=(6, 4))\n",
    "ax.grid(True)\n",
    "cb = None\n",
    "fig.clear()\n",
    "ax = plt.gca()\n",
    "circuit = 'R0-p(R1,CPE1)-W1'\n",
    "circuit\n",
    "freq = np.logspace(-12, 12, 200)\n",
    "param = {\n",
    "        \"R0\": 10,\n",
    "        \"R1\": 100,\n",
    "        \"R2\": 200,\n",
    "        \"C1\": 1e-8,\n",
    "        \"CPE1_0\": 1e-9,\n",
    "        \"CPE1_1\": 0.809,\n",
    "        \"CPE2_0\": 1e-9,\n",
    "        \"CPE2_1\": 0.5,\n",
    "        \"W1\": 300,\n",
    "        \"Ws1_R\": 100,\n",
    "        \"Ws1_T\": 10 ** 1,\n",
    "        \"Wo1_R\": 100,\n",
    "        \"Wo1_T\": 10 ** 1,\n",
    "        \"Wss1_R\": 100,\n",
    "        \"Wss1_T\": 10 ** 1\n",
    "        }\n",
    "res = cpc.calc_circuit(param, circuit, freq)\n",
    "scat = ax.scatter(\n",
    "            res.real,\n",
    "            -res.imag,\n",
    "            c='blue',#,\n",
    "            cmap='bwr',\n",
    "            vmin=0,\n",
    "            vmax=2\n",
    "            )\n",
    "#fig.colorbar(scat, label=r\"$\\omega\\cdot\\tau$ in multiples of $2\\pi$\")\n",
    "ax.set_aspect('equal')\n",
    "ax.set_xlim(-10, 500)\n",
    "ax.set_ylim(ax.get_xlim())\n",
    " \n",
    "@widgets.interact(r0=(0.1, 200.0, 1.0), r1=(0.1, 600.0, 1.0), r2=(0.1,300,1), ws_r=(0.0, 400.0, 1.0), ws_t=(0.0, 5.0, 0.1), continuous_update=False)\n",
    "def update(r0 = 10.0,r1 = 100,r2 = 200, ws_r=100.0, ws_t=1.0,n1=0.9):\n",
    "    \"\"\"Remove old lines from plot and plot new one\"\"\"\n",
    "    param = {\n",
    "            \"R0\": r0,\n",
    "            \"R1\": r1,\n",
    "            \"R2\": r2,\n",
    "            \"C1\": 1e-8,\n",
    "            \"CPE1_0\": 1e-12,\n",
    "            \"CPE1_1\": n1,\n",
    "            \"CPE2_0\": 1e-9,\n",
    "            \"CPE2_1\": 0.899,\n",
    "            \"W1\": 300,\n",
    "            \"Ws1_R\": ws_r,\n",
    "            \"Ws1_T\": 10 ** ws_t,\n",
    "            \"Wo1_R\": ws_r,\n",
    "            \"Wo1_T\": 10 ** ws_t,\n",
    "            \"Wss1_R\": 100,\n",
    "            \"Wss1_T\": 10 ** 1\n",
    "            }\n",
    "    res = cpc.calc_circuit(param, circuit, freq)\n",
    "    scat.set_offsets(np.c_[res.real,-res.imag])"
   ]
  },
  {
   "cell_type": "code",
   "execution_count": null,
   "id": "5eea3a20",
   "metadata": {},
   "outputs": [],
   "source": []
  }
 ],
 "metadata": {
  "kernelspec": {
   "display_name": "Python 3 (ipykernel)",
   "language": "python",
   "name": "python3"
  },
  "language_info": {
   "codemirror_mode": {
    "name": "ipython",
    "version": 3
   },
   "file_extension": ".py",
   "mimetype": "text/x-python",
   "name": "python",
   "nbconvert_exporter": "python",
   "pygments_lexer": "ipython3",
   "version": "3.9.7"
  }
 },
 "nbformat": 4,
 "nbformat_minor": 5
}
