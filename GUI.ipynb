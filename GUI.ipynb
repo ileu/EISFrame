{
 "cells": [
  {
   "cell_type": "code",
   "execution_count": 1,
   "id": "300d3b6a",
   "metadata": {},
   "outputs": [],
   "source": [
    "import Base\n",
    "import Parser.CircuitParserCalc as cpc\n",
    "import ipywidgets as widgets\n",
    "import matplotlib.pyplot as plt\n",
    "import matplotlib\n",
    "import matplotlib.cm as cm\n",
    "import numpy as np\n",
    "%matplotlib widget"
   ]
  },
  {
   "cell_type": "code",
   "execution_count": 8,
   "id": "a96cb657",
   "metadata": {
    "scrolled": false
   },
   "outputs": [
    {
     "data": {
      "application/vnd.jupyter.widget-view+json": {
       "model_id": "01dd5b45ceeb470b99560631c719c286",
       "version_major": 2,
       "version_minor": 0
      },
      "text/plain": [
       "interactive(children=(FloatSlider(value=10.0, description='r0', max=200.0, step=1.0), FloatSlider(value=100.0,…"
      ]
     },
     "metadata": {},
     "output_type": "display_data"
    },
    {
     "data": {
      "application/vnd.jupyter.widget-view+json": {
       "model_id": "de85790d281b4ec28a4ac951099d1ab6",
       "version_major": 2,
       "version_minor": 0
      },
      "text/html": [
       "\n",
       "            <div style=\"display: inline-block;\">\n",
       "                <div class=\"jupyter-widgets widget-label\" style=\"text-align: center;\">\n",
       "                    Figure\n",
       "                </div>\n",
       "                <img src='data:image/png;base64,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' width=600.0/>\n",
       "            </div>\n",
       "        "
      ],
      "text/plain": [
       "Canvas(toolbar=Toolbar(toolitems=[('Home', 'Reset original view', 'home', 'home'), ('Back', 'Back to previous …"
      ]
     },
     "metadata": {},
     "output_type": "display_data"
    }
   ],
   "source": [
    "# set up plot\n",
    "plt.close()\n",
    "fig, ax = plt.subplots(figsize=(6, 4))\n",
    "ax.grid(True)\n",
    "cb = None\n",
    "fig.clear()\n",
    "ax = plt.gca()\n",
    "circuit = 'R0-p(R1,CPE1)-W1'\n",
    "circuit\n",
    "freq = np.logspace(-3, 12, 200)\n",
    "param = {\n",
    "        \"R0\": 10,\n",
    "        \"R1\": 100,\n",
    "        \"R2\": 200,\n",
    "        \"C1\": 1e-8,\n",
    "        \"CPE1_0\": 1e-9,\n",
    "        \"CPE1_1\": 0.809,\n",
    "        \"CPE2_0\": 1e-9,\n",
    "        \"CPE2_1\": 0.5,\n",
    "        \"W1\": 300,\n",
    "        \"Ws1_R\": 100,\n",
    "        \"Ws1_T\": 10 ** 1,\n",
    "        \"Wo1_R\": 100,\n",
    "        \"Wo1_T\": 10 ** 1,\n",
    "        \"Wss1_R\": 100,\n",
    "        \"Wss1_T\": 10 ** 1\n",
    "        }\n",
    "norm = matplotlib.colors.Normalize(vmin=0, vmax=2, clip=True)\n",
    "mapper = cm.ScalarMappable(norm=norm, cmap=cm.bwr)\n",
    "res = cpc.calc_circuit(param, circuit, freq)\n",
    "scat = ax.scatter(\n",
    "            res.real,\n",
    "            -res.imag,\n",
    "            cmap='bwr',\n",
    "            norm=norm\n",
    "            )\n",
    "cb = fig.colorbar(mapper, label=r\"$\\omega\\cdot\\tau$ in multiples of $2\\pi$\")\n",
    "ax.set_aspect('equal')\n",
    "ax.set_xlim(-10, 500)\n",
    "ax.set_ylim(ax.get_xlim())\n",
    "x_label = r\"Re(Z)/$\\Omega$\"\n",
    "y_label = r\"-Im(Z)/$\\Omega$\"\n",
    "ax.set_xlabel(x_label)\n",
    "ax.set_ylabel(y_label)\n",
    "ax.tick_params(direction='in')\n",
    " \n",
    "@widgets.interact(r0=(0, 200.0, 1.0), r1=(0.1, 600.0, 1.0), ws_r=(0.0, 400.0, 1.0), ws_t=(0.0, 5.0, 0.1),color=False, continuous_update=False)\n",
    "def update(r0 = 10.0,r1 = 100, ws_r=100.0, ws_t=1.0, color=False):\n",
    "    \"\"\"Remove old lines from plot and plot new one\"\"\"\n",
    "    param = {\n",
    "            \"R0\": r0,\n",
    "            \"R1\": r1,\n",
    "            \"R2\": 200,\n",
    "            \"C1\": 1e-8,\n",
    "            \"CPE1_0\": 1e-12,\n",
    "            \"CPE1_1\": 0.9,\n",
    "            \"CPE2_0\": 1e-9,\n",
    "            \"CPE2_1\": 0.899,\n",
    "            \"W1\": 3 * ws_r,\n",
    "            \"Ws1_R\": ws_r,\n",
    "            \"Ws1_T\": 10 ** ws_t,\n",
    "            \"Wo1_R\": ws_r,\n",
    "            \"Wo1_T\": 10 ** ws_t,\n",
    "            \"Wss1_R\": ws_r,\n",
    "            \"Wss1_T\": 10 ** ws_t\n",
    "            }\n",
    "    res = cpc.calc_circuit(param, circuit, freq)\n",
    "    scat.set_offsets(np.c_[res.real,-res.imag])\n",
    "    if color:\n",
    "        scat.set_facecolor(mapper.to_rgba(freq * param[\"Ws1_T\"] / 2 / np.pi))\n",
    "        fig.axes[1].set_visible(True)\n",
    "    else:\n",
    "        scat.set_facecolor('black')\n",
    "        fig.axes[1].set_visible(False)"
   ]
  }
 ],
 "metadata": {
  "kernelspec": {
   "display_name": "Python 3 (ipykernel)",
   "language": "python",
   "name": "python3"
  },
  "language_info": {
   "codemirror_mode": {
    "name": "ipython",
    "version": 3
   },
   "file_extension": ".py",
   "mimetype": "text/x-python",
   "name": "python",
   "nbconvert_exporter": "python",
   "pygments_lexer": "ipython3",
   "version": "3.9.7"
  }
 },
 "nbformat": 4,
 "nbformat_minor": 5
}
