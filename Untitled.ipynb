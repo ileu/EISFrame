{
 "cells": [
  {
   "cell_type": "code",
   "execution_count": null,
   "id": "e15d3207",
   "metadata": {},
   "outputs": [],
   "source": [
    "import numpy as np\n",
    "import matplotlib.pyplot as plt\n",
    "%matplotlib inline"
   ]
  },
  {
   "cell_type": "code",
   "execution_count": null,
   "id": "575cd561",
   "metadata": {},
   "outputs": [],
   "source": [
    "test = ['flags', 'mode', 'ox/red', 'error', 'control changes', 'Ns changes',\n",
    "       'counter inc.', 'Ns', 'I Range', 'time/s', 'control/mA', 'Ewe/V',\n",
    "       'I/mA', 'dq/mA.h', '(Q-Qo)/mA.h', 'Energy/W.h', 'freq/Hz', '|Z|/Ohm',\n",
    "       'Phase(Z)/deg', 'Q charge/discharge/mA.h', 'half cycle', 'Ece/V',\n",
    "       '<Ece>/V', '|Ece|/V', 'Phase(Zce)/deg', '|Zce|/Ohm', 'Re(Zce)/Ohm',\n",
    "       '-Im(Zce)/Ohm', 'Phase(Zwe-ce)/deg', '|Zwe-ce|/Ohm', 'Re(Zwe-ce)/Ohm',\n",
    "       '-Im(Zwe-ce)/Ohm', 'z cycle', 'Energy charge/W.h',\n",
    "       'Energy discharge/W.h', 'Capacitance charge/µF',\n",
    "       'Capacitance discharge/µF']\n",
    "test.append(\"cycle number\")\n",
    "test.append(\"Re(Z)/Ohm\")"
   ]
  },
  {
   "cell_type": "code",
   "execution_count": null,
   "id": "dd07cef5",
   "metadata": {},
   "outputs": [],
   "source": [
    "if any(\"Ewe\" in col for col in test):\n",
    "    print(\"Hallo\")\n",
    "li = [elem for elem in test if \"I/mA\" in elem]\n",
    "print(li)"
   ]
  },
  {
   "cell_type": "code",
   "execution_count": null,
   "id": "79c1a339",
   "metadata": {},
   "outputs": [],
   "source": [
    "import re\n",
    "\n",
    "string_lst = ['fun', 'dum', 'sun', 'gum']\n",
    "r = re.compile( r\"Ewe|I/mA|Re\\(Z(ce)?\\)|-Im\\(Z(ce)?\\)|time|(z )?cycle( number)?\")\n",
    "newlist = list(filter(r.match, test)) # Read Note below\n",
    "print(newlist)"
   ]
  },
  {
   "cell_type": "code",
   "execution_count": null,
   "id": "9da427ed",
   "metadata": {},
   "outputs": [],
   "source": [
    "x = np.linspace(0,5,10)\n",
    "y = np.sin(x)\n",
    "\n",
    "plt.plot(x,y)\n",
    "plt.gca().get_legend_handles_labels()"
   ]
  },
  {
   "cell_type": "code",
   "execution_count": null,
   "id": "4a6a6056",
   "metadata": {
    "scrolled": true
   },
   "outputs": [],
   "source": [
    "import re\n",
    "circuit = 'R_0-p(R_1-R_2,CPE_1-C)-p(R_2-R,CPE_2)'\n",
    "\n",
    "def elem(circ):\n",
    "    \n",
    "\n",
    "def par(circ):\n",
    "    circ = circ[2:]\n",
    "    tot_imp = 0\n",
    "    imp = 0\n",
    "    # TODO rufe parse auf und achte auf , und schlussklammer\n",
    "    while not circ.startswith(')'):\n",
    "        circ, temp = folge(circ)\n",
    "        \n",
    "        imp += temp\n",
    "        if circ.startswith(','):\n",
    "            tot_imp = 1 / imp\n",
    "            circ = circ[1:]\n",
    "    circ = circ[1:]\n",
    "    return circ, 1 / tot_imp\n",
    "\n",
    "def folge(circ):\n",
    "    if circ.startswith('p('):\n",
    "        return par(circ)\n",
    "    else:\n",
    "        # Check if element\n",
    "        regex = r\"([A-z]+)_?\\d?\"\n",
    "        index = re.compile(r'([A-z]+)_?\\d?').match(circuit)\n",
    "        print(circuit[:index.end()])\n",
    "        circ = circ[index.end():]\n",
    "\n",
    "        \n",
    "        return circ, 1\n",
    "\n",
    "def parse_circuit(circ, parallel=False):\n",
    "    stop = 0\n",
    "    impedance = 0\n",
    "    while circ != '':\n",
    "        circ, imp = folge(circ)\n",
    "        \n",
    "        stop += 1\n",
    "        if stop == 10:\n",
    "            print(\"Broken\")\n",
    "            break\n",
    "\n",
    "parse_circuit(circuit)\n"
   ]
  },
  {
   "cell_type": "code",
   "execution_count": 66,
   "id": "fd7a11d8",
   "metadata": {},
   "outputs": [
    {
     "name": "stdout",
     "output_type": "stream",
     "text": [
      "R_0\n",
      "-p(R_1-R_2,CPE_1-C)-p(R_2-R,CPE_2)\n"
     ]
    }
   ],
   "source": [
    "circuit = 'R_0-p(R_1-R_2,CPE_1-C)-p(R_2-R,CPE_2)'\n",
    "\n",
    "regex = 1\n",
    "index = re.compile(r'([A-z]+)_?\\d?').match(circuit)\n",
    "print(circuit[:index.end()])\n",
    "print(circuit[index.end():])\n"
   ]
  },
  {
   "cell_type": "code",
   "execution_count": 65,
   "id": "54ba50f7",
   "metadata": {},
   "outputs": [
    {
     "name": "stdout",
     "output_type": "stream",
     "text": [
      "-p(R_1-R_2,CPE_1-C)-p(R_2-R,CPE_2)\n"
     ]
    }
   ],
   "source": [
    "print(re.sub(regex, '', circuit, count=1))"
   ]
  },
  {
   "cell_type": "code",
   "execution_count": null,
   "id": "e6f77051",
   "metadata": {},
   "outputs": [],
   "source": []
  }
 ],
 "metadata": {
  "kernelspec": {
   "display_name": "Python 3 (ipykernel)",
   "language": "python",
   "name": "python3"
  },
  "language_info": {
   "codemirror_mode": {
    "name": "ipython",
    "version": 3
   },
   "file_extension": ".py",
   "mimetype": "text/x-python",
   "name": "python",
   "nbconvert_exporter": "python",
   "pygments_lexer": "ipython3",
   "version": "3.9.7"
  }
 },
 "nbformat": 4,
 "nbformat_minor": 5
}
