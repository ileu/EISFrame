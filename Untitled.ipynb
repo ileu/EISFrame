{
 "cells": [
  {
   "cell_type": "code",
   "execution_count": null,
   "id": "e15d3207",
   "metadata": {},
   "outputs": [],
   "source": [
    "import numpy as np\n",
    "import matplotlib.pyplot as plt\n",
    "%matplotlib inline"
   ]
  },
  {
   "cell_type": "code",
   "execution_count": null,
   "id": "575cd561",
   "metadata": {},
   "outputs": [],
   "source": [
    "test = ['flags', 'mode', 'ox/red', 'error', 'control changes', 'Ns changes',\n",
    "       'counter inc.', 'Ns', 'I Range', 'time/s', 'control/mA', 'Ewe/V',\n",
    "       'I/mA', 'dq/mA.h', '(Q-Qo)/mA.h', 'Energy/W.h', 'freq/Hz', '|Z|/Ohm',\n",
    "       'Phase(Z)/deg', 'Q charge/discharge/mA.h', 'half cycle', 'Ece/V',\n",
    "       '<Ece>/V', '|Ece|/V', 'Phase(Zce)/deg', '|Zce|/Ohm', 'Re(Zce)/Ohm',\n",
    "       '-Im(Zce)/Ohm', 'Phase(Zwe-ce)/deg', '|Zwe-ce|/Ohm', 'Re(Zwe-ce)/Ohm',\n",
    "       '-Im(Zwe-ce)/Ohm', 'z cycle', 'Energy charge/W.h',\n",
    "       'Energy discharge/W.h', 'Capacitance charge/µF',\n",
    "       'Capacitance discharge/µF']\n",
    "test.append(\"cycle number\")\n",
    "test.append(\"Re(Z)/Ohm\")"
   ]
  },
  {
   "cell_type": "code",
   "execution_count": null,
   "id": "dd07cef5",
   "metadata": {},
   "outputs": [],
   "source": [
    "if any(\"Ewe\" in col for col in test):\n",
    "    print(\"Hallo\")\n",
    "li = [elem for elem in test if \"I/mA\" in elem]\n",
    "print(li)"
   ]
  },
  {
   "cell_type": "code",
   "execution_count": null,
   "id": "79c1a339",
   "metadata": {},
   "outputs": [],
   "source": [
    "import re\n",
    "\n",
    "string_lst = ['fun', 'dum', 'sun', 'gum']\n",
    "r = re.compile( r\"Ewe|I/mA|Re\\(Z(ce)?\\)|-Im\\(Z(ce)?\\)|time|(z )?cycle( number)?\")\n",
    "newlist = list(filter(r.match, test)) # Read Note below\n",
    "print(newlist)"
   ]
  },
  {
   "cell_type": "code",
   "execution_count": null,
   "id": "9da427ed",
   "metadata": {},
   "outputs": [],
   "source": [
    "x = np.linspace(0,5,10)\n",
    "y = np.sin(x)\n",
    "\n",
    "plt.plot(x,y)\n",
    "plt.gca().get_legend_handles_labels()"
   ]
  },
  {
   "cell_type": "code",
   "execution_count": 3,
   "id": "4a6a6056",
   "metadata": {
    "scrolled": true
   },
   "outputs": [
    {
     "name": "stdout",
     "output_type": "stream",
     "text": [
      "R_0\n",
      "R_0\n",
      "R_0\n",
      "R_0\n",
      "R_0\n",
      "R_0\n",
      "R_0\n",
      "R_0\n",
      "R_0\n",
      "R_0\n"
     ]
    },
    {
     "ename": "TypeError",
     "evalue": "cannot unpack non-iterable NoneType object",
     "output_type": "error",
     "traceback": [
      "\u001b[1;31m---------------------------------------------------------------------------\u001b[0m",
      "\u001b[1;31mTypeError\u001b[0m                                 Traceback (most recent call last)",
      "\u001b[1;32m~\\AppData\\Local\\Temp/ipykernel_20864/2336958381.py\u001b[0m in \u001b[0;36m<module>\u001b[1;34m\u001b[0m\n\u001b[0;32m     43\u001b[0m             \u001b[1;32mbreak\u001b[0m\u001b[1;33m\u001b[0m\u001b[1;33m\u001b[0m\u001b[0m\n\u001b[0;32m     44\u001b[0m \u001b[1;33m\u001b[0m\u001b[0m\n\u001b[1;32m---> 45\u001b[1;33m \u001b[0mparse_circuit\u001b[0m\u001b[1;33m(\u001b[0m\u001b[0mcircuit\u001b[0m\u001b[1;33m)\u001b[0m\u001b[1;33m\u001b[0m\u001b[1;33m\u001b[0m\u001b[0m\n\u001b[0m",
      "\u001b[1;32m~\\AppData\\Local\\Temp/ipykernel_20864/2336958381.py\u001b[0m in \u001b[0;36mparse_circuit\u001b[1;34m(circ, parallel)\u001b[0m\n\u001b[0;32m     36\u001b[0m         \u001b[1;32mif\u001b[0m \u001b[0mcirc\u001b[0m\u001b[1;33m.\u001b[0m\u001b[0mstartswith\u001b[0m\u001b[1;33m(\u001b[0m\u001b[1;34m'-'\u001b[0m\u001b[1;33m)\u001b[0m\u001b[1;33m:\u001b[0m\u001b[1;33m\u001b[0m\u001b[1;33m\u001b[0m\u001b[0m\n\u001b[0;32m     37\u001b[0m             \u001b[0mcirc\u001b[0m \u001b[1;33m=\u001b[0m \u001b[0mcirc\u001b[0m\u001b[1;33m[\u001b[0m\u001b[1;36m1\u001b[0m\u001b[1;33m:\u001b[0m\u001b[1;33m]\u001b[0m\u001b[1;33m\u001b[0m\u001b[1;33m\u001b[0m\u001b[0m\n\u001b[1;32m---> 38\u001b[1;33m         \u001b[0mcirc\u001b[0m\u001b[1;33m,\u001b[0m \u001b[0mimp\u001b[0m \u001b[1;33m=\u001b[0m \u001b[0mfolge\u001b[0m\u001b[1;33m(\u001b[0m\u001b[0mcirc\u001b[0m\u001b[1;33m)\u001b[0m\u001b[1;33m\u001b[0m\u001b[1;33m\u001b[0m\u001b[0m\n\u001b[0m\u001b[0;32m     39\u001b[0m \u001b[1;33m\u001b[0m\u001b[0m\n\u001b[0;32m     40\u001b[0m         \u001b[0mstop\u001b[0m \u001b[1;33m+=\u001b[0m \u001b[1;36m1\u001b[0m\u001b[1;33m\u001b[0m\u001b[1;33m\u001b[0m\u001b[0m\n",
      "\u001b[1;32m~\\AppData\\Local\\Temp/ipykernel_20864/2336958381.py\u001b[0m in \u001b[0;36mfolge\u001b[1;34m(circ)\u001b[0m\n\u001b[0;32m     19\u001b[0m \u001b[1;32mdef\u001b[0m \u001b[0mfolge\u001b[0m\u001b[1;33m(\u001b[0m\u001b[0mcirc\u001b[0m\u001b[1;33m)\u001b[0m\u001b[1;33m:\u001b[0m\u001b[1;33m\u001b[0m\u001b[1;33m\u001b[0m\u001b[0m\n\u001b[0;32m     20\u001b[0m     \u001b[1;32mif\u001b[0m \u001b[0mcirc\u001b[0m\u001b[1;33m.\u001b[0m\u001b[0mstartswith\u001b[0m\u001b[1;33m(\u001b[0m\u001b[1;34m'p('\u001b[0m\u001b[1;33m)\u001b[0m\u001b[1;33m:\u001b[0m\u001b[1;33m\u001b[0m\u001b[1;33m\u001b[0m\u001b[0m\n\u001b[1;32m---> 21\u001b[1;33m         \u001b[1;32mreturn\u001b[0m \u001b[0mpar\u001b[0m\u001b[1;33m(\u001b[0m\u001b[0mcirc\u001b[0m\u001b[1;33m)\u001b[0m\u001b[1;33m\u001b[0m\u001b[1;33m\u001b[0m\u001b[0m\n\u001b[0m\u001b[0;32m     22\u001b[0m     \u001b[1;32melse\u001b[0m\u001b[1;33m:\u001b[0m\u001b[1;33m\u001b[0m\u001b[1;33m\u001b[0m\u001b[0m\n\u001b[0;32m     23\u001b[0m         \u001b[1;31m# Check if element\u001b[0m\u001b[1;33m\u001b[0m\u001b[1;33m\u001b[0m\u001b[1;33m\u001b[0m\u001b[0m\n",
      "\u001b[1;32m~\\AppData\\Local\\Temp/ipykernel_20864/2336958381.py\u001b[0m in \u001b[0;36mpar\u001b[1;34m(circ)\u001b[0m\n\u001b[0;32m      8\u001b[0m     \u001b[1;31m# TODO rufe parse auf und achte auf , und schlussklammer\u001b[0m\u001b[1;33m\u001b[0m\u001b[1;33m\u001b[0m\u001b[1;33m\u001b[0m\u001b[0m\n\u001b[0;32m      9\u001b[0m     \u001b[1;32mwhile\u001b[0m \u001b[1;32mnot\u001b[0m \u001b[0mcirc\u001b[0m\u001b[1;33m.\u001b[0m\u001b[0mstartswith\u001b[0m\u001b[1;33m(\u001b[0m\u001b[1;34m')'\u001b[0m\u001b[1;33m)\u001b[0m\u001b[1;33m:\u001b[0m\u001b[1;33m\u001b[0m\u001b[1;33m\u001b[0m\u001b[0m\n\u001b[1;32m---> 10\u001b[1;33m         \u001b[0mcirc\u001b[0m\u001b[1;33m,\u001b[0m \u001b[0mtemp\u001b[0m \u001b[1;33m=\u001b[0m \u001b[0mparse_circuit\u001b[0m\u001b[1;33m(\u001b[0m\u001b[0mcirc\u001b[0m\u001b[1;33m)\u001b[0m\u001b[1;33m\u001b[0m\u001b[1;33m\u001b[0m\u001b[0m\n\u001b[0m\u001b[0;32m     11\u001b[0m \u001b[1;33m\u001b[0m\u001b[0m\n\u001b[0;32m     12\u001b[0m         \u001b[0mimp\u001b[0m \u001b[1;33m+=\u001b[0m \u001b[0mtemp\u001b[0m\u001b[1;33m\u001b[0m\u001b[1;33m\u001b[0m\u001b[0m\n",
      "\u001b[1;32m~\\AppData\\Local\\Temp/ipykernel_20864/2336958381.py\u001b[0m in \u001b[0;36mparse_circuit\u001b[1;34m(circ, parallel)\u001b[0m\n\u001b[0;32m     36\u001b[0m         \u001b[1;32mif\u001b[0m \u001b[0mcirc\u001b[0m\u001b[1;33m.\u001b[0m\u001b[0mstartswith\u001b[0m\u001b[1;33m(\u001b[0m\u001b[1;34m'-'\u001b[0m\u001b[1;33m)\u001b[0m\u001b[1;33m:\u001b[0m\u001b[1;33m\u001b[0m\u001b[1;33m\u001b[0m\u001b[0m\n\u001b[0;32m     37\u001b[0m             \u001b[0mcirc\u001b[0m \u001b[1;33m=\u001b[0m \u001b[0mcirc\u001b[0m\u001b[1;33m[\u001b[0m\u001b[1;36m1\u001b[0m\u001b[1;33m:\u001b[0m\u001b[1;33m]\u001b[0m\u001b[1;33m\u001b[0m\u001b[1;33m\u001b[0m\u001b[0m\n\u001b[1;32m---> 38\u001b[1;33m         \u001b[0mcirc\u001b[0m\u001b[1;33m,\u001b[0m \u001b[0mimp\u001b[0m \u001b[1;33m=\u001b[0m \u001b[0mfolge\u001b[0m\u001b[1;33m(\u001b[0m\u001b[0mcirc\u001b[0m\u001b[1;33m)\u001b[0m\u001b[1;33m\u001b[0m\u001b[1;33m\u001b[0m\u001b[0m\n\u001b[0m\u001b[0;32m     39\u001b[0m \u001b[1;33m\u001b[0m\u001b[0m\n\u001b[0;32m     40\u001b[0m         \u001b[0mstop\u001b[0m \u001b[1;33m+=\u001b[0m \u001b[1;36m1\u001b[0m\u001b[1;33m\u001b[0m\u001b[1;33m\u001b[0m\u001b[0m\n",
      "\u001b[1;32m~\\AppData\\Local\\Temp/ipykernel_20864/2336958381.py\u001b[0m in \u001b[0;36mfolge\u001b[1;34m(circ)\u001b[0m\n\u001b[0;32m     19\u001b[0m \u001b[1;32mdef\u001b[0m \u001b[0mfolge\u001b[0m\u001b[1;33m(\u001b[0m\u001b[0mcirc\u001b[0m\u001b[1;33m)\u001b[0m\u001b[1;33m:\u001b[0m\u001b[1;33m\u001b[0m\u001b[1;33m\u001b[0m\u001b[0m\n\u001b[0;32m     20\u001b[0m     \u001b[1;32mif\u001b[0m \u001b[0mcirc\u001b[0m\u001b[1;33m.\u001b[0m\u001b[0mstartswith\u001b[0m\u001b[1;33m(\u001b[0m\u001b[1;34m'p('\u001b[0m\u001b[1;33m)\u001b[0m\u001b[1;33m:\u001b[0m\u001b[1;33m\u001b[0m\u001b[1;33m\u001b[0m\u001b[0m\n\u001b[1;32m---> 21\u001b[1;33m         \u001b[1;32mreturn\u001b[0m \u001b[0mpar\u001b[0m\u001b[1;33m(\u001b[0m\u001b[0mcirc\u001b[0m\u001b[1;33m)\u001b[0m\u001b[1;33m\u001b[0m\u001b[1;33m\u001b[0m\u001b[0m\n\u001b[0m\u001b[0;32m     22\u001b[0m     \u001b[1;32melse\u001b[0m\u001b[1;33m:\u001b[0m\u001b[1;33m\u001b[0m\u001b[1;33m\u001b[0m\u001b[0m\n\u001b[0;32m     23\u001b[0m         \u001b[1;31m# Check if element\u001b[0m\u001b[1;33m\u001b[0m\u001b[1;33m\u001b[0m\u001b[1;33m\u001b[0m\u001b[0m\n",
      "\u001b[1;32m~\\AppData\\Local\\Temp/ipykernel_20864/2336958381.py\u001b[0m in \u001b[0;36mpar\u001b[1;34m(circ)\u001b[0m\n\u001b[0;32m      8\u001b[0m     \u001b[1;31m# TODO rufe parse auf und achte auf , und schlussklammer\u001b[0m\u001b[1;33m\u001b[0m\u001b[1;33m\u001b[0m\u001b[1;33m\u001b[0m\u001b[0m\n\u001b[0;32m      9\u001b[0m     \u001b[1;32mwhile\u001b[0m \u001b[1;32mnot\u001b[0m \u001b[0mcirc\u001b[0m\u001b[1;33m.\u001b[0m\u001b[0mstartswith\u001b[0m\u001b[1;33m(\u001b[0m\u001b[1;34m')'\u001b[0m\u001b[1;33m)\u001b[0m\u001b[1;33m:\u001b[0m\u001b[1;33m\u001b[0m\u001b[1;33m\u001b[0m\u001b[0m\n\u001b[1;32m---> 10\u001b[1;33m         \u001b[0mcirc\u001b[0m\u001b[1;33m,\u001b[0m \u001b[0mtemp\u001b[0m \u001b[1;33m=\u001b[0m \u001b[0mparse_circuit\u001b[0m\u001b[1;33m(\u001b[0m\u001b[0mcirc\u001b[0m\u001b[1;33m)\u001b[0m\u001b[1;33m\u001b[0m\u001b[1;33m\u001b[0m\u001b[0m\n\u001b[0m\u001b[0;32m     11\u001b[0m \u001b[1;33m\u001b[0m\u001b[0m\n\u001b[0;32m     12\u001b[0m         \u001b[0mimp\u001b[0m \u001b[1;33m+=\u001b[0m \u001b[0mtemp\u001b[0m\u001b[1;33m\u001b[0m\u001b[1;33m\u001b[0m\u001b[0m\n",
      "\u001b[1;31mTypeError\u001b[0m: cannot unpack non-iterable NoneType object"
     ]
    }
   ],
   "source": [
    "import re\n",
    "circuit = 'R_0-p(R_1-R_2,CPE_1-C)-p(R_2-R,CPE_2)'\n",
    "\n",
    "def par(circ):\n",
    "    circ = circ[2:]\n",
    "    tot_imp = 0\n",
    "    imp = 0\n",
    "    # TODO rufe parse auf und achte auf , und schlussklammer\n",
    "    while not circ.startswith(')'):\n",
    "        circ, temp = parse_circuit(circ)\n",
    "        \n",
    "        imp += temp\n",
    "        if circ.startswith(','):\n",
    "            tot_imp = 1 / imp\n",
    "            circ = circ[1:]\n",
    "    circ = circ[1:]\n",
    "    return circ, 1 / tot_imp\n",
    "\n",
    "def folge(circ):\n",
    "    if circ.startswith('p('):\n",
    "        return par(circ)\n",
    "    else:\n",
    "        # Check if element\n",
    "        regex = r\"([A-z]+)_?\\d?\"\n",
    "        index = re.match(r'([A-z]+)_?\\d?', circuit)\n",
    "        print(circuit[:index.end()])\n",
    "        circ = circ[index.end():]\n",
    "\n",
    "        \n",
    "        return circ, 1\n",
    "    \n",
    "    \n",
    "def circuit(circ):\n",
    "    \n",
    "\n",
    "def parse_circuit(circ):\n",
    "    stop = 0\n",
    "    impedance = 0\n",
    "    while circ != '':\n",
    "        if circ.startswith('-'):\n",
    "            circ = circ[1:]\n",
    "        circ, imp = folge(circ)\n",
    "        \n",
    "        stop += 1\n",
    "        if stop == 10:\n",
    "            print(\"Broken\")\n",
    "            break\n",
    "\n",
    "parse_circuit(circuit)\n"
   ]
  },
  {
   "cell_type": "code",
   "execution_count": 26,
   "id": "ab15dfce",
   "metadata": {},
   "outputs": [
    {
     "name": "stdout",
     "output_type": "stream",
     "text": [
      "R_0\n",
      "R_1\n",
      "R_2\n",
      "CPE_1\n",
      "C\n",
      "R_2\n",
      "R\n",
      "CPE_2\n"
     ]
    },
    {
     "data": {
      "text/plain": [
       "('', 2.6666666666666665)"
      ]
     },
     "execution_count": 26,
     "metadata": {},
     "output_type": "execute_result"
    }
   ],
   "source": [
    "circ = 'R_0-p(R_1-R_2,CPE_1-C)-p(R_2-R,CPE_2)'\n",
    "\n",
    "\n",
    "def component(c: str):\n",
    "    regex = r\"([A-z]+)_?\\d?\"\n",
    "    index = re.match(r'([A-z]+)_?\\d?', c)\n",
    "    print(c[:index.end()])\n",
    "    c = c[index.end():]\n",
    "    return c, 1\n",
    "\n",
    "def parallel(c: str):\n",
    "    c = c[2:]\n",
    "    tot_imp = 0\n",
    "    while not c.startswith(')'):\n",
    "        if c.startswith(','):\n",
    "            c = c[1:]\n",
    "        c, imp = circuit(c)\n",
    "        tot_imp += 1 / imp \n",
    "    c = c[1:]\n",
    "    return c, 1 / tot_imp\n",
    "\n",
    "def element(c: str):\n",
    "    if c.startswith('p('):\n",
    "        c, imp = parallel(c)\n",
    "    else:\n",
    "         c, imp = component(c)\n",
    "    return c, imp\n",
    "\n",
    "def circuit(c: str):\n",
    "    tot_imp = 0\n",
    "    if not c:\n",
    "        return c, tot_imp\n",
    "    c, imp = element(c)\n",
    "    tot_imp += imp\n",
    "    if c.startswith('-'):\n",
    "        c, imp = circuit(c[1:])\n",
    "        tot_imp += imp\n",
    "    return c, tot_imp\n",
    "\n",
    "circuit(circ)\n"
   ]
  },
  {
   "cell_type": "code",
   "execution_count": 66,
   "id": "fd7a11d8",
   "metadata": {},
   "outputs": [
    {
     "name": "stdout",
     "output_type": "stream",
     "text": [
      "R_0\n",
      "-p(R_1-R_2,CPE_1-C)-p(R_2-R,CPE_2)\n"
     ]
    }
   ],
   "source": [
    "circuit = 'R_0-p(R_1-R_2,CPE_1-C)-p(R_2-R,CPE_2)'\n",
    "\n",
    "regex = 1\n",
    "index = re.compile(r'([A-z]+)_?\\d?').match(circuit)\n",
    "print(circuit[:index.end()])\n",
    "print(circuit[index.end():])\n"
   ]
  },
  {
   "cell_type": "code",
   "execution_count": 65,
   "id": "54ba50f7",
   "metadata": {},
   "outputs": [
    {
     "name": "stdout",
     "output_type": "stream",
     "text": [
      "-p(R_1-R_2,CPE_1-C)-p(R_2-R,CPE_2)\n"
     ]
    }
   ],
   "source": [
    "print(re.sub(regex, '', circuit, count=1))"
   ]
  },
  {
   "cell_type": "code",
   "execution_count": null,
   "id": "e6f77051",
   "metadata": {},
   "outputs": [],
   "source": []
  }
 ],
 "metadata": {
  "kernelspec": {
   "display_name": "Python 3 (ipykernel)",
   "language": "python",
   "name": "python3"
  },
  "language_info": {
   "codemirror_mode": {
    "name": "ipython",
    "version": 3
   },
   "file_extension": ".py",
   "mimetype": "text/x-python",
   "name": "python",
   "nbconvert_exporter": "python",
   "pygments_lexer": "ipython3",
   "version": "3.9.5"
  }
 },
 "nbformat": 4,
 "nbformat_minor": 5
}
